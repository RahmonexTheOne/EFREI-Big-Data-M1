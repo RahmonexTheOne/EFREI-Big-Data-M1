{
  "nbformat": 4,
  "nbformat_minor": 0,
  "metadata": {
    "colab": {
      "provenance": []
    },
    "kernelspec": {
      "name": "python3",
      "display_name": "Python 3"
    },
    "language_info": {
      "name": "python"
    },
    "widgets": {
      "application/vnd.jupyter.widget-state+json": {
        "4667b691536944b5885183c463c539cf": {
          "model_module": "@jupyter-widgets/controls",
          "model_name": "HBoxModel",
          "model_module_version": "1.5.0",
          "state": {
            "_dom_classes": [],
            "_model_module": "@jupyter-widgets/controls",
            "_model_module_version": "1.5.0",
            "_model_name": "HBoxModel",
            "_view_count": null,
            "_view_module": "@jupyter-widgets/controls",
            "_view_module_version": "1.5.0",
            "_view_name": "HBoxView",
            "box_style": "",
            "children": [
              "IPY_MODEL_efa1326232b34071b825b58b2ce518c8",
              "IPY_MODEL_bd65ad58c8894c71a0684078710b4e46",
              "IPY_MODEL_5f2bd44a4be84a869fc75a6409f1beb9"
            ],
            "layout": "IPY_MODEL_1963ab264b034ed6976ebd733c6634b7"
          }
        },
        "efa1326232b34071b825b58b2ce518c8": {
          "model_module": "@jupyter-widgets/controls",
          "model_name": "HTMLModel",
          "model_module_version": "1.5.0",
          "state": {
            "_dom_classes": [],
            "_model_module": "@jupyter-widgets/controls",
            "_model_module_version": "1.5.0",
            "_model_name": "HTMLModel",
            "_view_count": null,
            "_view_module": "@jupyter-widgets/controls",
            "_view_module_version": "1.5.0",
            "_view_name": "HTMLView",
            "description": "",
            "description_tooltip": null,
            "layout": "IPY_MODEL_8aab480c041f4c90be5376629c8ca8fa",
            "placeholder": "​",
            "style": "IPY_MODEL_da7ccfc879fd45ada0f4baeb587e10cd",
            "value": "Summarize dataset: 100%"
          }
        },
        "bd65ad58c8894c71a0684078710b4e46": {
          "model_module": "@jupyter-widgets/controls",
          "model_name": "FloatProgressModel",
          "model_module_version": "1.5.0",
          "state": {
            "_dom_classes": [],
            "_model_module": "@jupyter-widgets/controls",
            "_model_module_version": "1.5.0",
            "_model_name": "FloatProgressModel",
            "_view_count": null,
            "_view_module": "@jupyter-widgets/controls",
            "_view_module_version": "1.5.0",
            "_view_name": "ProgressView",
            "bar_style": "success",
            "description": "",
            "description_tooltip": null,
            "layout": "IPY_MODEL_e320813b7ae54908a4efd1bc337eea74",
            "max": 5,
            "min": 0,
            "orientation": "horizontal",
            "style": "IPY_MODEL_ea74f5cdd1454c57aac59b81ad7fa13b",
            "value": 5
          }
        },
        "5f2bd44a4be84a869fc75a6409f1beb9": {
          "model_module": "@jupyter-widgets/controls",
          "model_name": "HTMLModel",
          "model_module_version": "1.5.0",
          "state": {
            "_dom_classes": [],
            "_model_module": "@jupyter-widgets/controls",
            "_model_module_version": "1.5.0",
            "_model_name": "HTMLModel",
            "_view_count": null,
            "_view_module": "@jupyter-widgets/controls",
            "_view_module_version": "1.5.0",
            "_view_name": "HTMLView",
            "description": "",
            "description_tooltip": null,
            "layout": "IPY_MODEL_fb70705c6f68496e84b6346d2811afec",
            "placeholder": "​",
            "style": "IPY_MODEL_73bc466e37434fac98bde08b9e0cd3de",
            "value": " 92/92 [00:27&lt;00:00,  2.22it/s, Completed]"
          }
        },
        "1963ab264b034ed6976ebd733c6634b7": {
          "model_module": "@jupyter-widgets/base",
          "model_name": "LayoutModel",
          "model_module_version": "1.2.0",
          "state": {
            "_model_module": "@jupyter-widgets/base",
            "_model_module_version": "1.2.0",
            "_model_name": "LayoutModel",
            "_view_count": null,
            "_view_module": "@jupyter-widgets/base",
            "_view_module_version": "1.2.0",
            "_view_name": "LayoutView",
            "align_content": null,
            "align_items": null,
            "align_self": null,
            "border": null,
            "bottom": null,
            "display": null,
            "flex": null,
            "flex_flow": null,
            "grid_area": null,
            "grid_auto_columns": null,
            "grid_auto_flow": null,
            "grid_auto_rows": null,
            "grid_column": null,
            "grid_gap": null,
            "grid_row": null,
            "grid_template_areas": null,
            "grid_template_columns": null,
            "grid_template_rows": null,
            "height": null,
            "justify_content": null,
            "justify_items": null,
            "left": null,
            "margin": null,
            "max_height": null,
            "max_width": null,
            "min_height": null,
            "min_width": null,
            "object_fit": null,
            "object_position": null,
            "order": null,
            "overflow": null,
            "overflow_x": null,
            "overflow_y": null,
            "padding": null,
            "right": null,
            "top": null,
            "visibility": null,
            "width": null
          }
        },
        "8aab480c041f4c90be5376629c8ca8fa": {
          "model_module": "@jupyter-widgets/base",
          "model_name": "LayoutModel",
          "model_module_version": "1.2.0",
          "state": {
            "_model_module": "@jupyter-widgets/base",
            "_model_module_version": "1.2.0",
            "_model_name": "LayoutModel",
            "_view_count": null,
            "_view_module": "@jupyter-widgets/base",
            "_view_module_version": "1.2.0",
            "_view_name": "LayoutView",
            "align_content": null,
            "align_items": null,
            "align_self": null,
            "border": null,
            "bottom": null,
            "display": null,
            "flex": null,
            "flex_flow": null,
            "grid_area": null,
            "grid_auto_columns": null,
            "grid_auto_flow": null,
            "grid_auto_rows": null,
            "grid_column": null,
            "grid_gap": null,
            "grid_row": null,
            "grid_template_areas": null,
            "grid_template_columns": null,
            "grid_template_rows": null,
            "height": null,
            "justify_content": null,
            "justify_items": null,
            "left": null,
            "margin": null,
            "max_height": null,
            "max_width": null,
            "min_height": null,
            "min_width": null,
            "object_fit": null,
            "object_position": null,
            "order": null,
            "overflow": null,
            "overflow_x": null,
            "overflow_y": null,
            "padding": null,
            "right": null,
            "top": null,
            "visibility": null,
            "width": null
          }
        },
        "da7ccfc879fd45ada0f4baeb587e10cd": {
          "model_module": "@jupyter-widgets/controls",
          "model_name": "DescriptionStyleModel",
          "model_module_version": "1.5.0",
          "state": {
            "_model_module": "@jupyter-widgets/controls",
            "_model_module_version": "1.5.0",
            "_model_name": "DescriptionStyleModel",
            "_view_count": null,
            "_view_module": "@jupyter-widgets/base",
            "_view_module_version": "1.2.0",
            "_view_name": "StyleView",
            "description_width": ""
          }
        },
        "e320813b7ae54908a4efd1bc337eea74": {
          "model_module": "@jupyter-widgets/base",
          "model_name": "LayoutModel",
          "model_module_version": "1.2.0",
          "state": {
            "_model_module": "@jupyter-widgets/base",
            "_model_module_version": "1.2.0",
            "_model_name": "LayoutModel",
            "_view_count": null,
            "_view_module": "@jupyter-widgets/base",
            "_view_module_version": "1.2.0",
            "_view_name": "LayoutView",
            "align_content": null,
            "align_items": null,
            "align_self": null,
            "border": null,
            "bottom": null,
            "display": null,
            "flex": null,
            "flex_flow": null,
            "grid_area": null,
            "grid_auto_columns": null,
            "grid_auto_flow": null,
            "grid_auto_rows": null,
            "grid_column": null,
            "grid_gap": null,
            "grid_row": null,
            "grid_template_areas": null,
            "grid_template_columns": null,
            "grid_template_rows": null,
            "height": null,
            "justify_content": null,
            "justify_items": null,
            "left": null,
            "margin": null,
            "max_height": null,
            "max_width": null,
            "min_height": null,
            "min_width": null,
            "object_fit": null,
            "object_position": null,
            "order": null,
            "overflow": null,
            "overflow_x": null,
            "overflow_y": null,
            "padding": null,
            "right": null,
            "top": null,
            "visibility": null,
            "width": null
          }
        },
        "ea74f5cdd1454c57aac59b81ad7fa13b": {
          "model_module": "@jupyter-widgets/controls",
          "model_name": "ProgressStyleModel",
          "model_module_version": "1.5.0",
          "state": {
            "_model_module": "@jupyter-widgets/controls",
            "_model_module_version": "1.5.0",
            "_model_name": "ProgressStyleModel",
            "_view_count": null,
            "_view_module": "@jupyter-widgets/base",
            "_view_module_version": "1.2.0",
            "_view_name": "StyleView",
            "bar_color": null,
            "description_width": ""
          }
        },
        "fb70705c6f68496e84b6346d2811afec": {
          "model_module": "@jupyter-widgets/base",
          "model_name": "LayoutModel",
          "model_module_version": "1.2.0",
          "state": {
            "_model_module": "@jupyter-widgets/base",
            "_model_module_version": "1.2.0",
            "_model_name": "LayoutModel",
            "_view_count": null,
            "_view_module": "@jupyter-widgets/base",
            "_view_module_version": "1.2.0",
            "_view_name": "LayoutView",
            "align_content": null,
            "align_items": null,
            "align_self": null,
            "border": null,
            "bottom": null,
            "display": null,
            "flex": null,
            "flex_flow": null,
            "grid_area": null,
            "grid_auto_columns": null,
            "grid_auto_flow": null,
            "grid_auto_rows": null,
            "grid_column": null,
            "grid_gap": null,
            "grid_row": null,
            "grid_template_areas": null,
            "grid_template_columns": null,
            "grid_template_rows": null,
            "height": null,
            "justify_content": null,
            "justify_items": null,
            "left": null,
            "margin": null,
            "max_height": null,
            "max_width": null,
            "min_height": null,
            "min_width": null,
            "object_fit": null,
            "object_position": null,
            "order": null,
            "overflow": null,
            "overflow_x": null,
            "overflow_y": null,
            "padding": null,
            "right": null,
            "top": null,
            "visibility": null,
            "width": null
          }
        },
        "73bc466e37434fac98bde08b9e0cd3de": {
          "model_module": "@jupyter-widgets/controls",
          "model_name": "DescriptionStyleModel",
          "model_module_version": "1.5.0",
          "state": {
            "_model_module": "@jupyter-widgets/controls",
            "_model_module_version": "1.5.0",
            "_model_name": "DescriptionStyleModel",
            "_view_count": null,
            "_view_module": "@jupyter-widgets/base",
            "_view_module_version": "1.2.0",
            "_view_name": "StyleView",
            "description_width": ""
          }
        },
        "3e2c6001207f4797b9f67b49408a2cfa": {
          "model_module": "@jupyter-widgets/controls",
          "model_name": "HBoxModel",
          "model_module_version": "1.5.0",
          "state": {
            "_dom_classes": [],
            "_model_module": "@jupyter-widgets/controls",
            "_model_module_version": "1.5.0",
            "_model_name": "HBoxModel",
            "_view_count": null,
            "_view_module": "@jupyter-widgets/controls",
            "_view_module_version": "1.5.0",
            "_view_name": "HBoxView",
            "box_style": "",
            "children": [
              "IPY_MODEL_2ecd09970cb241ba89c0b4222aee3873",
              "IPY_MODEL_74b24b7c9360414681f3448dd981752d",
              "IPY_MODEL_d93b7a68d2b24c33a431273fde80e120"
            ],
            "layout": "IPY_MODEL_8099486d7c5149a48d4ca6e72c9ccfbd"
          }
        },
        "2ecd09970cb241ba89c0b4222aee3873": {
          "model_module": "@jupyter-widgets/controls",
          "model_name": "HTMLModel",
          "model_module_version": "1.5.0",
          "state": {
            "_dom_classes": [],
            "_model_module": "@jupyter-widgets/controls",
            "_model_module_version": "1.5.0",
            "_model_name": "HTMLModel",
            "_view_count": null,
            "_view_module": "@jupyter-widgets/controls",
            "_view_module_version": "1.5.0",
            "_view_name": "HTMLView",
            "description": "",
            "description_tooltip": null,
            "layout": "IPY_MODEL_a5b8a12dbabf4c3ea90fd45933969f6b",
            "placeholder": "​",
            "style": "IPY_MODEL_82709233237a4553b3027790c743de33",
            "value": "Generate report structure: 100%"
          }
        },
        "74b24b7c9360414681f3448dd981752d": {
          "model_module": "@jupyter-widgets/controls",
          "model_name": "FloatProgressModel",
          "model_module_version": "1.5.0",
          "state": {
            "_dom_classes": [],
            "_model_module": "@jupyter-widgets/controls",
            "_model_module_version": "1.5.0",
            "_model_name": "FloatProgressModel",
            "_view_count": null,
            "_view_module": "@jupyter-widgets/controls",
            "_view_module_version": "1.5.0",
            "_view_name": "ProgressView",
            "bar_style": "success",
            "description": "",
            "description_tooltip": null,
            "layout": "IPY_MODEL_3e7f2e7f6a9b48dbb6770555ce2cd980",
            "max": 1,
            "min": 0,
            "orientation": "horizontal",
            "style": "IPY_MODEL_a85a2d8e77914fd38b6eca5bee16647b",
            "value": 1
          }
        },
        "d93b7a68d2b24c33a431273fde80e120": {
          "model_module": "@jupyter-widgets/controls",
          "model_name": "HTMLModel",
          "model_module_version": "1.5.0",
          "state": {
            "_dom_classes": [],
            "_model_module": "@jupyter-widgets/controls",
            "_model_module_version": "1.5.0",
            "_model_name": "HTMLModel",
            "_view_count": null,
            "_view_module": "@jupyter-widgets/controls",
            "_view_module_version": "1.5.0",
            "_view_name": "HTMLView",
            "description": "",
            "description_tooltip": null,
            "layout": "IPY_MODEL_4ed39c42bc094aeda90e463f67aa396f",
            "placeholder": "​",
            "style": "IPY_MODEL_e24622947c3b4710806f17670c5eb5df",
            "value": " 1/1 [00:15&lt;00:00, 15.84s/it]"
          }
        },
        "8099486d7c5149a48d4ca6e72c9ccfbd": {
          "model_module": "@jupyter-widgets/base",
          "model_name": "LayoutModel",
          "model_module_version": "1.2.0",
          "state": {
            "_model_module": "@jupyter-widgets/base",
            "_model_module_version": "1.2.0",
            "_model_name": "LayoutModel",
            "_view_count": null,
            "_view_module": "@jupyter-widgets/base",
            "_view_module_version": "1.2.0",
            "_view_name": "LayoutView",
            "align_content": null,
            "align_items": null,
            "align_self": null,
            "border": null,
            "bottom": null,
            "display": null,
            "flex": null,
            "flex_flow": null,
            "grid_area": null,
            "grid_auto_columns": null,
            "grid_auto_flow": null,
            "grid_auto_rows": null,
            "grid_column": null,
            "grid_gap": null,
            "grid_row": null,
            "grid_template_areas": null,
            "grid_template_columns": null,
            "grid_template_rows": null,
            "height": null,
            "justify_content": null,
            "justify_items": null,
            "left": null,
            "margin": null,
            "max_height": null,
            "max_width": null,
            "min_height": null,
            "min_width": null,
            "object_fit": null,
            "object_position": null,
            "order": null,
            "overflow": null,
            "overflow_x": null,
            "overflow_y": null,
            "padding": null,
            "right": null,
            "top": null,
            "visibility": null,
            "width": null
          }
        },
        "a5b8a12dbabf4c3ea90fd45933969f6b": {
          "model_module": "@jupyter-widgets/base",
          "model_name": "LayoutModel",
          "model_module_version": "1.2.0",
          "state": {
            "_model_module": "@jupyter-widgets/base",
            "_model_module_version": "1.2.0",
            "_model_name": "LayoutModel",
            "_view_count": null,
            "_view_module": "@jupyter-widgets/base",
            "_view_module_version": "1.2.0",
            "_view_name": "LayoutView",
            "align_content": null,
            "align_items": null,
            "align_self": null,
            "border": null,
            "bottom": null,
            "display": null,
            "flex": null,
            "flex_flow": null,
            "grid_area": null,
            "grid_auto_columns": null,
            "grid_auto_flow": null,
            "grid_auto_rows": null,
            "grid_column": null,
            "grid_gap": null,
            "grid_row": null,
            "grid_template_areas": null,
            "grid_template_columns": null,
            "grid_template_rows": null,
            "height": null,
            "justify_content": null,
            "justify_items": null,
            "left": null,
            "margin": null,
            "max_height": null,
            "max_width": null,
            "min_height": null,
            "min_width": null,
            "object_fit": null,
            "object_position": null,
            "order": null,
            "overflow": null,
            "overflow_x": null,
            "overflow_y": null,
            "padding": null,
            "right": null,
            "top": null,
            "visibility": null,
            "width": null
          }
        },
        "82709233237a4553b3027790c743de33": {
          "model_module": "@jupyter-widgets/controls",
          "model_name": "DescriptionStyleModel",
          "model_module_version": "1.5.0",
          "state": {
            "_model_module": "@jupyter-widgets/controls",
            "_model_module_version": "1.5.0",
            "_model_name": "DescriptionStyleModel",
            "_view_count": null,
            "_view_module": "@jupyter-widgets/base",
            "_view_module_version": "1.2.0",
            "_view_name": "StyleView",
            "description_width": ""
          }
        },
        "3e7f2e7f6a9b48dbb6770555ce2cd980": {
          "model_module": "@jupyter-widgets/base",
          "model_name": "LayoutModel",
          "model_module_version": "1.2.0",
          "state": {
            "_model_module": "@jupyter-widgets/base",
            "_model_module_version": "1.2.0",
            "_model_name": "LayoutModel",
            "_view_count": null,
            "_view_module": "@jupyter-widgets/base",
            "_view_module_version": "1.2.0",
            "_view_name": "LayoutView",
            "align_content": null,
            "align_items": null,
            "align_self": null,
            "border": null,
            "bottom": null,
            "display": null,
            "flex": null,
            "flex_flow": null,
            "grid_area": null,
            "grid_auto_columns": null,
            "grid_auto_flow": null,
            "grid_auto_rows": null,
            "grid_column": null,
            "grid_gap": null,
            "grid_row": null,
            "grid_template_areas": null,
            "grid_template_columns": null,
            "grid_template_rows": null,
            "height": null,
            "justify_content": null,
            "justify_items": null,
            "left": null,
            "margin": null,
            "max_height": null,
            "max_width": null,
            "min_height": null,
            "min_width": null,
            "object_fit": null,
            "object_position": null,
            "order": null,
            "overflow": null,
            "overflow_x": null,
            "overflow_y": null,
            "padding": null,
            "right": null,
            "top": null,
            "visibility": null,
            "width": null
          }
        },
        "a85a2d8e77914fd38b6eca5bee16647b": {
          "model_module": "@jupyter-widgets/controls",
          "model_name": "ProgressStyleModel",
          "model_module_version": "1.5.0",
          "state": {
            "_model_module": "@jupyter-widgets/controls",
            "_model_module_version": "1.5.0",
            "_model_name": "ProgressStyleModel",
            "_view_count": null,
            "_view_module": "@jupyter-widgets/base",
            "_view_module_version": "1.2.0",
            "_view_name": "StyleView",
            "bar_color": null,
            "description_width": ""
          }
        },
        "4ed39c42bc094aeda90e463f67aa396f": {
          "model_module": "@jupyter-widgets/base",
          "model_name": "LayoutModel",
          "model_module_version": "1.2.0",
          "state": {
            "_model_module": "@jupyter-widgets/base",
            "_model_module_version": "1.2.0",
            "_model_name": "LayoutModel",
            "_view_count": null,
            "_view_module": "@jupyter-widgets/base",
            "_view_module_version": "1.2.0",
            "_view_name": "LayoutView",
            "align_content": null,
            "align_items": null,
            "align_self": null,
            "border": null,
            "bottom": null,
            "display": null,
            "flex": null,
            "flex_flow": null,
            "grid_area": null,
            "grid_auto_columns": null,
            "grid_auto_flow": null,
            "grid_auto_rows": null,
            "grid_column": null,
            "grid_gap": null,
            "grid_row": null,
            "grid_template_areas": null,
            "grid_template_columns": null,
            "grid_template_rows": null,
            "height": null,
            "justify_content": null,
            "justify_items": null,
            "left": null,
            "margin": null,
            "max_height": null,
            "max_width": null,
            "min_height": null,
            "min_width": null,
            "object_fit": null,
            "object_position": null,
            "order": null,
            "overflow": null,
            "overflow_x": null,
            "overflow_y": null,
            "padding": null,
            "right": null,
            "top": null,
            "visibility": null,
            "width": null
          }
        },
        "e24622947c3b4710806f17670c5eb5df": {
          "model_module": "@jupyter-widgets/controls",
          "model_name": "DescriptionStyleModel",
          "model_module_version": "1.5.0",
          "state": {
            "_model_module": "@jupyter-widgets/controls",
            "_model_module_version": "1.5.0",
            "_model_name": "DescriptionStyleModel",
            "_view_count": null,
            "_view_module": "@jupyter-widgets/base",
            "_view_module_version": "1.2.0",
            "_view_name": "StyleView",
            "description_width": ""
          }
        },
        "4e92edc874b24ad8901644aa8b3f777e": {
          "model_module": "@jupyter-widgets/controls",
          "model_name": "HBoxModel",
          "model_module_version": "1.5.0",
          "state": {
            "_dom_classes": [],
            "_model_module": "@jupyter-widgets/controls",
            "_model_module_version": "1.5.0",
            "_model_name": "HBoxModel",
            "_view_count": null,
            "_view_module": "@jupyter-widgets/controls",
            "_view_module_version": "1.5.0",
            "_view_name": "HBoxView",
            "box_style": "",
            "children": [
              "IPY_MODEL_511c714a5b3e40b6bef599ef464d20a3",
              "IPY_MODEL_a9b0971b195740ab8d511cadfcfd7978",
              "IPY_MODEL_5c74acb2e04a466a92ff3261297f68ea"
            ],
            "layout": "IPY_MODEL_f89fa2c7a76744df998ada8c8a0360e5"
          }
        },
        "511c714a5b3e40b6bef599ef464d20a3": {
          "model_module": "@jupyter-widgets/controls",
          "model_name": "HTMLModel",
          "model_module_version": "1.5.0",
          "state": {
            "_dom_classes": [],
            "_model_module": "@jupyter-widgets/controls",
            "_model_module_version": "1.5.0",
            "_model_name": "HTMLModel",
            "_view_count": null,
            "_view_module": "@jupyter-widgets/controls",
            "_view_module_version": "1.5.0",
            "_view_name": "HTMLView",
            "description": "",
            "description_tooltip": null,
            "layout": "IPY_MODEL_eba53973cb724b9289385d702cd4cd24",
            "placeholder": "​",
            "style": "IPY_MODEL_de85abf09fbd42de861189d5b35cc015",
            "value": "Render HTML: 100%"
          }
        },
        "a9b0971b195740ab8d511cadfcfd7978": {
          "model_module": "@jupyter-widgets/controls",
          "model_name": "FloatProgressModel",
          "model_module_version": "1.5.0",
          "state": {
            "_dom_classes": [],
            "_model_module": "@jupyter-widgets/controls",
            "_model_module_version": "1.5.0",
            "_model_name": "FloatProgressModel",
            "_view_count": null,
            "_view_module": "@jupyter-widgets/controls",
            "_view_module_version": "1.5.0",
            "_view_name": "ProgressView",
            "bar_style": "success",
            "description": "",
            "description_tooltip": null,
            "layout": "IPY_MODEL_6d9b8da3f03b492991bdaba98eca6100",
            "max": 1,
            "min": 0,
            "orientation": "horizontal",
            "style": "IPY_MODEL_f04c7c22a5cf4dd38d717ae078564c88",
            "value": 1
          }
        },
        "5c74acb2e04a466a92ff3261297f68ea": {
          "model_module": "@jupyter-widgets/controls",
          "model_name": "HTMLModel",
          "model_module_version": "1.5.0",
          "state": {
            "_dom_classes": [],
            "_model_module": "@jupyter-widgets/controls",
            "_model_module_version": "1.5.0",
            "_model_name": "HTMLModel",
            "_view_count": null,
            "_view_module": "@jupyter-widgets/controls",
            "_view_module_version": "1.5.0",
            "_view_name": "HTMLView",
            "description": "",
            "description_tooltip": null,
            "layout": "IPY_MODEL_2746a89c2c524a66accebd635797f81b",
            "placeholder": "​",
            "style": "IPY_MODEL_b1de508790974b9c90d7bafe5f96c753",
            "value": " 1/1 [00:04&lt;00:00,  4.52s/it]"
          }
        },
        "f89fa2c7a76744df998ada8c8a0360e5": {
          "model_module": "@jupyter-widgets/base",
          "model_name": "LayoutModel",
          "model_module_version": "1.2.0",
          "state": {
            "_model_module": "@jupyter-widgets/base",
            "_model_module_version": "1.2.0",
            "_model_name": "LayoutModel",
            "_view_count": null,
            "_view_module": "@jupyter-widgets/base",
            "_view_module_version": "1.2.0",
            "_view_name": "LayoutView",
            "align_content": null,
            "align_items": null,
            "align_self": null,
            "border": null,
            "bottom": null,
            "display": null,
            "flex": null,
            "flex_flow": null,
            "grid_area": null,
            "grid_auto_columns": null,
            "grid_auto_flow": null,
            "grid_auto_rows": null,
            "grid_column": null,
            "grid_gap": null,
            "grid_row": null,
            "grid_template_areas": null,
            "grid_template_columns": null,
            "grid_template_rows": null,
            "height": null,
            "justify_content": null,
            "justify_items": null,
            "left": null,
            "margin": null,
            "max_height": null,
            "max_width": null,
            "min_height": null,
            "min_width": null,
            "object_fit": null,
            "object_position": null,
            "order": null,
            "overflow": null,
            "overflow_x": null,
            "overflow_y": null,
            "padding": null,
            "right": null,
            "top": null,
            "visibility": null,
            "width": null
          }
        },
        "eba53973cb724b9289385d702cd4cd24": {
          "model_module": "@jupyter-widgets/base",
          "model_name": "LayoutModel",
          "model_module_version": "1.2.0",
          "state": {
            "_model_module": "@jupyter-widgets/base",
            "_model_module_version": "1.2.0",
            "_model_name": "LayoutModel",
            "_view_count": null,
            "_view_module": "@jupyter-widgets/base",
            "_view_module_version": "1.2.0",
            "_view_name": "LayoutView",
            "align_content": null,
            "align_items": null,
            "align_self": null,
            "border": null,
            "bottom": null,
            "display": null,
            "flex": null,
            "flex_flow": null,
            "grid_area": null,
            "grid_auto_columns": null,
            "grid_auto_flow": null,
            "grid_auto_rows": null,
            "grid_column": null,
            "grid_gap": null,
            "grid_row": null,
            "grid_template_areas": null,
            "grid_template_columns": null,
            "grid_template_rows": null,
            "height": null,
            "justify_content": null,
            "justify_items": null,
            "left": null,
            "margin": null,
            "max_height": null,
            "max_width": null,
            "min_height": null,
            "min_width": null,
            "object_fit": null,
            "object_position": null,
            "order": null,
            "overflow": null,
            "overflow_x": null,
            "overflow_y": null,
            "padding": null,
            "right": null,
            "top": null,
            "visibility": null,
            "width": null
          }
        },
        "de85abf09fbd42de861189d5b35cc015": {
          "model_module": "@jupyter-widgets/controls",
          "model_name": "DescriptionStyleModel",
          "model_module_version": "1.5.0",
          "state": {
            "_model_module": "@jupyter-widgets/controls",
            "_model_module_version": "1.5.0",
            "_model_name": "DescriptionStyleModel",
            "_view_count": null,
            "_view_module": "@jupyter-widgets/base",
            "_view_module_version": "1.2.0",
            "_view_name": "StyleView",
            "description_width": ""
          }
        },
        "6d9b8da3f03b492991bdaba98eca6100": {
          "model_module": "@jupyter-widgets/base",
          "model_name": "LayoutModel",
          "model_module_version": "1.2.0",
          "state": {
            "_model_module": "@jupyter-widgets/base",
            "_model_module_version": "1.2.0",
            "_model_name": "LayoutModel",
            "_view_count": null,
            "_view_module": "@jupyter-widgets/base",
            "_view_module_version": "1.2.0",
            "_view_name": "LayoutView",
            "align_content": null,
            "align_items": null,
            "align_self": null,
            "border": null,
            "bottom": null,
            "display": null,
            "flex": null,
            "flex_flow": null,
            "grid_area": null,
            "grid_auto_columns": null,
            "grid_auto_flow": null,
            "grid_auto_rows": null,
            "grid_column": null,
            "grid_gap": null,
            "grid_row": null,
            "grid_template_areas": null,
            "grid_template_columns": null,
            "grid_template_rows": null,
            "height": null,
            "justify_content": null,
            "justify_items": null,
            "left": null,
            "margin": null,
            "max_height": null,
            "max_width": null,
            "min_height": null,
            "min_width": null,
            "object_fit": null,
            "object_position": null,
            "order": null,
            "overflow": null,
            "overflow_x": null,
            "overflow_y": null,
            "padding": null,
            "right": null,
            "top": null,
            "visibility": null,
            "width": null
          }
        },
        "f04c7c22a5cf4dd38d717ae078564c88": {
          "model_module": "@jupyter-widgets/controls",
          "model_name": "ProgressStyleModel",
          "model_module_version": "1.5.0",
          "state": {
            "_model_module": "@jupyter-widgets/controls",
            "_model_module_version": "1.5.0",
            "_model_name": "ProgressStyleModel",
            "_view_count": null,
            "_view_module": "@jupyter-widgets/base",
            "_view_module_version": "1.2.0",
            "_view_name": "StyleView",
            "bar_color": null,
            "description_width": ""
          }
        },
        "2746a89c2c524a66accebd635797f81b": {
          "model_module": "@jupyter-widgets/base",
          "model_name": "LayoutModel",
          "model_module_version": "1.2.0",
          "state": {
            "_model_module": "@jupyter-widgets/base",
            "_model_module_version": "1.2.0",
            "_model_name": "LayoutModel",
            "_view_count": null,
            "_view_module": "@jupyter-widgets/base",
            "_view_module_version": "1.2.0",
            "_view_name": "LayoutView",
            "align_content": null,
            "align_items": null,
            "align_self": null,
            "border": null,
            "bottom": null,
            "display": null,
            "flex": null,
            "flex_flow": null,
            "grid_area": null,
            "grid_auto_columns": null,
            "grid_auto_flow": null,
            "grid_auto_rows": null,
            "grid_column": null,
            "grid_gap": null,
            "grid_row": null,
            "grid_template_areas": null,
            "grid_template_columns": null,
            "grid_template_rows": null,
            "height": null,
            "justify_content": null,
            "justify_items": null,
            "left": null,
            "margin": null,
            "max_height": null,
            "max_width": null,
            "min_height": null,
            "min_width": null,
            "object_fit": null,
            "object_position": null,
            "order": null,
            "overflow": null,
            "overflow_x": null,
            "overflow_y": null,
            "padding": null,
            "right": null,
            "top": null,
            "visibility": null,
            "width": null
          }
        },
        "b1de508790974b9c90d7bafe5f96c753": {
          "model_module": "@jupyter-widgets/controls",
          "model_name": "DescriptionStyleModel",
          "model_module_version": "1.5.0",
          "state": {
            "_model_module": "@jupyter-widgets/controls",
            "_model_module_version": "1.5.0",
            "_model_name": "DescriptionStyleModel",
            "_view_count": null,
            "_view_module": "@jupyter-widgets/base",
            "_view_module_version": "1.2.0",
            "_view_name": "StyleView",
            "description_width": ""
          }
        },
        "1d5fb46d07a54177861de21ca2c30651": {
          "model_module": "@jupyter-widgets/controls",
          "model_name": "HBoxModel",
          "model_module_version": "1.5.0",
          "state": {
            "_dom_classes": [],
            "_model_module": "@jupyter-widgets/controls",
            "_model_module_version": "1.5.0",
            "_model_name": "HBoxModel",
            "_view_count": null,
            "_view_module": "@jupyter-widgets/controls",
            "_view_module_version": "1.5.0",
            "_view_name": "HBoxView",
            "box_style": "",
            "children": [
              "IPY_MODEL_004574fe68d74aba909ac0b6ee8ad10a",
              "IPY_MODEL_bb52e831812048c7b38a8d66840c6c7c",
              "IPY_MODEL_199b9bc50efa480fbb43e5089d3e5dd0"
            ],
            "layout": "IPY_MODEL_2d793f5be8514545a6715590f4c9c9fe"
          }
        },
        "004574fe68d74aba909ac0b6ee8ad10a": {
          "model_module": "@jupyter-widgets/controls",
          "model_name": "HTMLModel",
          "model_module_version": "1.5.0",
          "state": {
            "_dom_classes": [],
            "_model_module": "@jupyter-widgets/controls",
            "_model_module_version": "1.5.0",
            "_model_name": "HTMLModel",
            "_view_count": null,
            "_view_module": "@jupyter-widgets/controls",
            "_view_module_version": "1.5.0",
            "_view_name": "HTMLView",
            "description": "",
            "description_tooltip": null,
            "layout": "IPY_MODEL_dd4d0e6100744c4188de1693d29eb574",
            "placeholder": "​",
            "style": "IPY_MODEL_ed0bc8784a46443782e9812f3debde35",
            "value": "Export report to file: 100%"
          }
        },
        "bb52e831812048c7b38a8d66840c6c7c": {
          "model_module": "@jupyter-widgets/controls",
          "model_name": "FloatProgressModel",
          "model_module_version": "1.5.0",
          "state": {
            "_dom_classes": [],
            "_model_module": "@jupyter-widgets/controls",
            "_model_module_version": "1.5.0",
            "_model_name": "FloatProgressModel",
            "_view_count": null,
            "_view_module": "@jupyter-widgets/controls",
            "_view_module_version": "1.5.0",
            "_view_name": "ProgressView",
            "bar_style": "success",
            "description": "",
            "description_tooltip": null,
            "layout": "IPY_MODEL_2af8fa1ce0b0462fad00a3d1fb86f01e",
            "max": 1,
            "min": 0,
            "orientation": "horizontal",
            "style": "IPY_MODEL_07073695def945e7a312cb5529f4c2fe",
            "value": 1
          }
        },
        "199b9bc50efa480fbb43e5089d3e5dd0": {
          "model_module": "@jupyter-widgets/controls",
          "model_name": "HTMLModel",
          "model_module_version": "1.5.0",
          "state": {
            "_dom_classes": [],
            "_model_module": "@jupyter-widgets/controls",
            "_model_module_version": "1.5.0",
            "_model_name": "HTMLModel",
            "_view_count": null,
            "_view_module": "@jupyter-widgets/controls",
            "_view_module_version": "1.5.0",
            "_view_name": "HTMLView",
            "description": "",
            "description_tooltip": null,
            "layout": "IPY_MODEL_0bbd054120f6457bb491d3f88df7c305",
            "placeholder": "​",
            "style": "IPY_MODEL_a82fa807d0e94c10adc09aaa5e088d19",
            "value": " 1/1 [00:00&lt;00:00, 18.71it/s]"
          }
        },
        "2d793f5be8514545a6715590f4c9c9fe": {
          "model_module": "@jupyter-widgets/base",
          "model_name": "LayoutModel",
          "model_module_version": "1.2.0",
          "state": {
            "_model_module": "@jupyter-widgets/base",
            "_model_module_version": "1.2.0",
            "_model_name": "LayoutModel",
            "_view_count": null,
            "_view_module": "@jupyter-widgets/base",
            "_view_module_version": "1.2.0",
            "_view_name": "LayoutView",
            "align_content": null,
            "align_items": null,
            "align_self": null,
            "border": null,
            "bottom": null,
            "display": null,
            "flex": null,
            "flex_flow": null,
            "grid_area": null,
            "grid_auto_columns": null,
            "grid_auto_flow": null,
            "grid_auto_rows": null,
            "grid_column": null,
            "grid_gap": null,
            "grid_row": null,
            "grid_template_areas": null,
            "grid_template_columns": null,
            "grid_template_rows": null,
            "height": null,
            "justify_content": null,
            "justify_items": null,
            "left": null,
            "margin": null,
            "max_height": null,
            "max_width": null,
            "min_height": null,
            "min_width": null,
            "object_fit": null,
            "object_position": null,
            "order": null,
            "overflow": null,
            "overflow_x": null,
            "overflow_y": null,
            "padding": null,
            "right": null,
            "top": null,
            "visibility": null,
            "width": null
          }
        },
        "dd4d0e6100744c4188de1693d29eb574": {
          "model_module": "@jupyter-widgets/base",
          "model_name": "LayoutModel",
          "model_module_version": "1.2.0",
          "state": {
            "_model_module": "@jupyter-widgets/base",
            "_model_module_version": "1.2.0",
            "_model_name": "LayoutModel",
            "_view_count": null,
            "_view_module": "@jupyter-widgets/base",
            "_view_module_version": "1.2.0",
            "_view_name": "LayoutView",
            "align_content": null,
            "align_items": null,
            "align_self": null,
            "border": null,
            "bottom": null,
            "display": null,
            "flex": null,
            "flex_flow": null,
            "grid_area": null,
            "grid_auto_columns": null,
            "grid_auto_flow": null,
            "grid_auto_rows": null,
            "grid_column": null,
            "grid_gap": null,
            "grid_row": null,
            "grid_template_areas": null,
            "grid_template_columns": null,
            "grid_template_rows": null,
            "height": null,
            "justify_content": null,
            "justify_items": null,
            "left": null,
            "margin": null,
            "max_height": null,
            "max_width": null,
            "min_height": null,
            "min_width": null,
            "object_fit": null,
            "object_position": null,
            "order": null,
            "overflow": null,
            "overflow_x": null,
            "overflow_y": null,
            "padding": null,
            "right": null,
            "top": null,
            "visibility": null,
            "width": null
          }
        },
        "ed0bc8784a46443782e9812f3debde35": {
          "model_module": "@jupyter-widgets/controls",
          "model_name": "DescriptionStyleModel",
          "model_module_version": "1.5.0",
          "state": {
            "_model_module": "@jupyter-widgets/controls",
            "_model_module_version": "1.5.0",
            "_model_name": "DescriptionStyleModel",
            "_view_count": null,
            "_view_module": "@jupyter-widgets/base",
            "_view_module_version": "1.2.0",
            "_view_name": "StyleView",
            "description_width": ""
          }
        },
        "2af8fa1ce0b0462fad00a3d1fb86f01e": {
          "model_module": "@jupyter-widgets/base",
          "model_name": "LayoutModel",
          "model_module_version": "1.2.0",
          "state": {
            "_model_module": "@jupyter-widgets/base",
            "_model_module_version": "1.2.0",
            "_model_name": "LayoutModel",
            "_view_count": null,
            "_view_module": "@jupyter-widgets/base",
            "_view_module_version": "1.2.0",
            "_view_name": "LayoutView",
            "align_content": null,
            "align_items": null,
            "align_self": null,
            "border": null,
            "bottom": null,
            "display": null,
            "flex": null,
            "flex_flow": null,
            "grid_area": null,
            "grid_auto_columns": null,
            "grid_auto_flow": null,
            "grid_auto_rows": null,
            "grid_column": null,
            "grid_gap": null,
            "grid_row": null,
            "grid_template_areas": null,
            "grid_template_columns": null,
            "grid_template_rows": null,
            "height": null,
            "justify_content": null,
            "justify_items": null,
            "left": null,
            "margin": null,
            "max_height": null,
            "max_width": null,
            "min_height": null,
            "min_width": null,
            "object_fit": null,
            "object_position": null,
            "order": null,
            "overflow": null,
            "overflow_x": null,
            "overflow_y": null,
            "padding": null,
            "right": null,
            "top": null,
            "visibility": null,
            "width": null
          }
        },
        "07073695def945e7a312cb5529f4c2fe": {
          "model_module": "@jupyter-widgets/controls",
          "model_name": "ProgressStyleModel",
          "model_module_version": "1.5.0",
          "state": {
            "_model_module": "@jupyter-widgets/controls",
            "_model_module_version": "1.5.0",
            "_model_name": "ProgressStyleModel",
            "_view_count": null,
            "_view_module": "@jupyter-widgets/base",
            "_view_module_version": "1.2.0",
            "_view_name": "StyleView",
            "bar_color": null,
            "description_width": ""
          }
        },
        "0bbd054120f6457bb491d3f88df7c305": {
          "model_module": "@jupyter-widgets/base",
          "model_name": "LayoutModel",
          "model_module_version": "1.2.0",
          "state": {
            "_model_module": "@jupyter-widgets/base",
            "_model_module_version": "1.2.0",
            "_model_name": "LayoutModel",
            "_view_count": null,
            "_view_module": "@jupyter-widgets/base",
            "_view_module_version": "1.2.0",
            "_view_name": "LayoutView",
            "align_content": null,
            "align_items": null,
            "align_self": null,
            "border": null,
            "bottom": null,
            "display": null,
            "flex": null,
            "flex_flow": null,
            "grid_area": null,
            "grid_auto_columns": null,
            "grid_auto_flow": null,
            "grid_auto_rows": null,
            "grid_column": null,
            "grid_gap": null,
            "grid_row": null,
            "grid_template_areas": null,
            "grid_template_columns": null,
            "grid_template_rows": null,
            "height": null,
            "justify_content": null,
            "justify_items": null,
            "left": null,
            "margin": null,
            "max_height": null,
            "max_width": null,
            "min_height": null,
            "min_width": null,
            "object_fit": null,
            "object_position": null,
            "order": null,
            "overflow": null,
            "overflow_x": null,
            "overflow_y": null,
            "padding": null,
            "right": null,
            "top": null,
            "visibility": null,
            "width": null
          }
        },
        "a82fa807d0e94c10adc09aaa5e088d19": {
          "model_module": "@jupyter-widgets/controls",
          "model_name": "DescriptionStyleModel",
          "model_module_version": "1.5.0",
          "state": {
            "_model_module": "@jupyter-widgets/controls",
            "_model_module_version": "1.5.0",
            "_model_name": "DescriptionStyleModel",
            "_view_count": null,
            "_view_module": "@jupyter-widgets/base",
            "_view_module_version": "1.2.0",
            "_view_name": "StyleView",
            "description_width": ""
          }
        }
      }
    }
  },
  "cells": [
    {
      "cell_type": "markdown",
      "source": [
        "# Lab 2: IoT Device Detection Using Machine Learning"
      ],
      "metadata": {
        "id": "98e_hg7eO7Co"
      }
    },
    {
      "cell_type": "markdown",
      "source": [
        "By Bilel RAHMOUNI"
      ],
      "metadata": {
        "id": "aJZ-yEqmPIEP"
      }
    },
    {
      "cell_type": "markdown",
      "source": [
        "## Part 1: Feature Extraction from pcap Files"
      ],
      "metadata": {
        "id": "L6fUNg5UPK0H"
      }
    },
    {
      "cell_type": "markdown",
      "source": [
        "#### Step 1: Upload the PcapProcessor.py File\n"
      ],
      "metadata": {
        "id": "TyV8XVoJQXJX"
      }
    },
    {
      "cell_type": "code",
      "execution_count": null,
      "metadata": {
        "id": "TcpFCBhNJNsW"
      },
      "outputs": [],
      "source": [
        "from google.colab import files\n",
        "files.upload()"
      ]
    },
    {
      "cell_type": "markdown",
      "source": [
        "#### Step 2: Install tshark (Wireshark)\n"
      ],
      "metadata": {
        "id": "P8AO5xjw_CfW"
      }
    },
    {
      "cell_type": "code",
      "source": [
        "!apt-get install tshark"
      ],
      "metadata": {
        "id": "8w260G3gTufN"
      },
      "execution_count": null,
      "outputs": []
    },
    {
      "cell_type": "markdown",
      "source": [
        "#### Step 3: Set Up and Import the Python File\n"
      ],
      "metadata": {
        "id": "McXD3C1c_0yf"
      }
    },
    {
      "cell_type": "code",
      "source": [
        "from PcapProcessor import PcapProcessor"
      ],
      "metadata": {
        "id": "KaPofhQw_aGz"
      },
      "execution_count": 2,
      "outputs": []
    },
    {
      "cell_type": "markdown",
      "source": [
        "#### Step 4: Upload Your pcap Files\n"
      ],
      "metadata": {
        "id": "_RPKh-naAJ3a"
      }
    },
    {
      "cell_type": "code",
      "source": [
        "files.upload()"
      ],
      "metadata": {
        "id": "N-2pmz11_4_R"
      },
      "execution_count": null,
      "outputs": []
    },
    {
      "cell_type": "markdown",
      "source": [
        "#### Step 5: Run the Feature Extraction Process\n"
      ],
      "metadata": {
        "id": "TbM-UNZKAoi3"
      }
    },
    {
      "cell_type": "code",
      "source": [
        "import os\n",
        "import glob\n",
        "\n",
        "processor = PcapProcessor(pcap_folder='/content/filtered_pcap')\n",
        "processor.process()"
      ],
      "metadata": {
        "id": "4uUg38SYAde-"
      },
      "execution_count": 4,
      "outputs": []
    },
    {
      "cell_type": "markdown",
      "source": [
        "#### Step 6: Download the Generated CSV File"
      ],
      "metadata": {
        "id": "SPsQdhrPGTjI"
      }
    },
    {
      "cell_type": "code",
      "source": [
        "from google.colab import files\n",
        "files.download('label_feature_IOT.csv')"
      ],
      "metadata": {
        "colab": {
          "base_uri": "https://localhost:8080/",
          "height": 17
        },
        "id": "-6frOyZgBV-r",
        "outputId": "ec021abc-430d-4635-95d1-89f536914030"
      },
      "execution_count": 5,
      "outputs": [
        {
          "output_type": "display_data",
          "data": {
            "text/plain": [
              "<IPython.core.display.Javascript object>"
            ],
            "application/javascript": [
              "\n",
              "    async function download(id, filename, size) {\n",
              "      if (!google.colab.kernel.accessAllowed) {\n",
              "        return;\n",
              "      }\n",
              "      const div = document.createElement('div');\n",
              "      const label = document.createElement('label');\n",
              "      label.textContent = `Downloading \"${filename}\": `;\n",
              "      div.appendChild(label);\n",
              "      const progress = document.createElement('progress');\n",
              "      progress.max = size;\n",
              "      div.appendChild(progress);\n",
              "      document.body.appendChild(div);\n",
              "\n",
              "      const buffers = [];\n",
              "      let downloaded = 0;\n",
              "\n",
              "      const channel = await google.colab.kernel.comms.open(id);\n",
              "      // Send a message to notify the kernel that we're ready.\n",
              "      channel.send({})\n",
              "\n",
              "      for await (const message of channel.messages) {\n",
              "        // Send a message to notify the kernel that we're ready.\n",
              "        channel.send({})\n",
              "        if (message.buffers) {\n",
              "          for (const buffer of message.buffers) {\n",
              "            buffers.push(buffer);\n",
              "            downloaded += buffer.byteLength;\n",
              "            progress.value = downloaded;\n",
              "          }\n",
              "        }\n",
              "      }\n",
              "      const blob = new Blob(buffers, {type: 'application/binary'});\n",
              "      const a = document.createElement('a');\n",
              "      a.href = window.URL.createObjectURL(blob);\n",
              "      a.download = filename;\n",
              "      div.appendChild(a);\n",
              "      a.click();\n",
              "      div.remove();\n",
              "    }\n",
              "  "
            ]
          },
          "metadata": {}
        },
        {
          "output_type": "display_data",
          "data": {
            "text/plain": [
              "<IPython.core.display.Javascript object>"
            ],
            "application/javascript": [
              "download(\"download_91cf8fbb-1afd-4256-a2c4-5ddbbf81d8d9\", \"label_feature_IOT.csv\", 1195689)"
            ]
          },
          "metadata": {}
        }
      ]
    },
    {
      "cell_type": "markdown",
      "source": [
        "We can also preview a part of the csv :"
      ],
      "metadata": {
        "id": "s-_wram_QPOH"
      }
    },
    {
      "cell_type": "code",
      "source": [
        "!pip install pandas"
      ],
      "metadata": {
        "id": "YTYNlU0HQTOf"
      },
      "execution_count": null,
      "outputs": []
    },
    {
      "cell_type": "code",
      "source": [
        "import pandas as pd\n",
        "\n",
        "# Read the CSV file into a pandas DataFrame\n",
        "df = pd.read_csv('/content/label_feature_IOT.csv')\n",
        "\n",
        "# Display the first few rows of the DataFrame\n",
        "df.head()"
      ],
      "metadata": {
        "colab": {
          "base_uri": "https://localhost:8080/",
          "height": 226
        },
        "id": "GmR5gysBQbw6",
        "outputId": "38cf44e9-8472-451e-aedf-4214ebfaedd9"
      },
      "execution_count": 9,
      "outputs": [
        {
          "output_type": "execute_result",
          "data": {
            "text/plain": [
              "        Label  IPLength  IPHeaderLength  TTL  Protocol  SourcePort  DestPort  \\\n",
              "0  TCP_Camera       142              20   64         6       45739       443   \n",
              "1  TCP_Camera        60              20   64         6       46770      5104   \n",
              "2  TCP_Camera       142              20   64         6       55778       443   \n",
              "3  TCP_Camera       142              20   64         6       45739       443   \n",
              "4  TCP_Camera       142              20   64         6       55778       443   \n",
              "\n",
              "   SequenceNumber  AckNumber  WindowSize  TCPHeaderLength  TCPLength  \\\n",
              "0               1          1        2529               32         90   \n",
              "1               0          0        5840               40          0   \n",
              "2               1          1        2529               32         90   \n",
              "3              91          1        2529               32         90   \n",
              "4              91          1        2529               32         90   \n",
              "\n",
              "   TCPStream  TCPUrgentPointer IPFlags    IPID IPchecksum TCPflags TCPChecksum  \n",
              "0          0                 0    0x40  0xce05     0x3b90   0x0018      0x833f  \n",
              "1          1                 0    0x40  0x10a4     0x7e36   0x0002      0x2d43  \n",
              "2          2                 0    0x40  0x2835     0x7172   0x0018      0xb236  \n",
              "3          0                 0    0x40  0xce06     0x3b8f   0x0018      0xbf7a  \n",
              "4          2                 0    0x40  0x2836     0x7171   0x0018      0x7364  "
            ],
            "text/html": [
              "\n",
              "  <div id=\"df-a14de213-eda8-4265-a2fd-b069c43abb82\" class=\"colab-df-container\">\n",
              "    <div>\n",
              "<style scoped>\n",
              "    .dataframe tbody tr th:only-of-type {\n",
              "        vertical-align: middle;\n",
              "    }\n",
              "\n",
              "    .dataframe tbody tr th {\n",
              "        vertical-align: top;\n",
              "    }\n",
              "\n",
              "    .dataframe thead th {\n",
              "        text-align: right;\n",
              "    }\n",
              "</style>\n",
              "<table border=\"1\" class=\"dataframe\">\n",
              "  <thead>\n",
              "    <tr style=\"text-align: right;\">\n",
              "      <th></th>\n",
              "      <th>Label</th>\n",
              "      <th>IPLength</th>\n",
              "      <th>IPHeaderLength</th>\n",
              "      <th>TTL</th>\n",
              "      <th>Protocol</th>\n",
              "      <th>SourcePort</th>\n",
              "      <th>DestPort</th>\n",
              "      <th>SequenceNumber</th>\n",
              "      <th>AckNumber</th>\n",
              "      <th>WindowSize</th>\n",
              "      <th>TCPHeaderLength</th>\n",
              "      <th>TCPLength</th>\n",
              "      <th>TCPStream</th>\n",
              "      <th>TCPUrgentPointer</th>\n",
              "      <th>IPFlags</th>\n",
              "      <th>IPID</th>\n",
              "      <th>IPchecksum</th>\n",
              "      <th>TCPflags</th>\n",
              "      <th>TCPChecksum</th>\n",
              "    </tr>\n",
              "  </thead>\n",
              "  <tbody>\n",
              "    <tr>\n",
              "      <th>0</th>\n",
              "      <td>TCP_Camera</td>\n",
              "      <td>142</td>\n",
              "      <td>20</td>\n",
              "      <td>64</td>\n",
              "      <td>6</td>\n",
              "      <td>45739</td>\n",
              "      <td>443</td>\n",
              "      <td>1</td>\n",
              "      <td>1</td>\n",
              "      <td>2529</td>\n",
              "      <td>32</td>\n",
              "      <td>90</td>\n",
              "      <td>0</td>\n",
              "      <td>0</td>\n",
              "      <td>0x40</td>\n",
              "      <td>0xce05</td>\n",
              "      <td>0x3b90</td>\n",
              "      <td>0x0018</td>\n",
              "      <td>0x833f</td>\n",
              "    </tr>\n",
              "    <tr>\n",
              "      <th>1</th>\n",
              "      <td>TCP_Camera</td>\n",
              "      <td>60</td>\n",
              "      <td>20</td>\n",
              "      <td>64</td>\n",
              "      <td>6</td>\n",
              "      <td>46770</td>\n",
              "      <td>5104</td>\n",
              "      <td>0</td>\n",
              "      <td>0</td>\n",
              "      <td>5840</td>\n",
              "      <td>40</td>\n",
              "      <td>0</td>\n",
              "      <td>1</td>\n",
              "      <td>0</td>\n",
              "      <td>0x40</td>\n",
              "      <td>0x10a4</td>\n",
              "      <td>0x7e36</td>\n",
              "      <td>0x0002</td>\n",
              "      <td>0x2d43</td>\n",
              "    </tr>\n",
              "    <tr>\n",
              "      <th>2</th>\n",
              "      <td>TCP_Camera</td>\n",
              "      <td>142</td>\n",
              "      <td>20</td>\n",
              "      <td>64</td>\n",
              "      <td>6</td>\n",
              "      <td>55778</td>\n",
              "      <td>443</td>\n",
              "      <td>1</td>\n",
              "      <td>1</td>\n",
              "      <td>2529</td>\n",
              "      <td>32</td>\n",
              "      <td>90</td>\n",
              "      <td>2</td>\n",
              "      <td>0</td>\n",
              "      <td>0x40</td>\n",
              "      <td>0x2835</td>\n",
              "      <td>0x7172</td>\n",
              "      <td>0x0018</td>\n",
              "      <td>0xb236</td>\n",
              "    </tr>\n",
              "    <tr>\n",
              "      <th>3</th>\n",
              "      <td>TCP_Camera</td>\n",
              "      <td>142</td>\n",
              "      <td>20</td>\n",
              "      <td>64</td>\n",
              "      <td>6</td>\n",
              "      <td>45739</td>\n",
              "      <td>443</td>\n",
              "      <td>91</td>\n",
              "      <td>1</td>\n",
              "      <td>2529</td>\n",
              "      <td>32</td>\n",
              "      <td>90</td>\n",
              "      <td>0</td>\n",
              "      <td>0</td>\n",
              "      <td>0x40</td>\n",
              "      <td>0xce06</td>\n",
              "      <td>0x3b8f</td>\n",
              "      <td>0x0018</td>\n",
              "      <td>0xbf7a</td>\n",
              "    </tr>\n",
              "    <tr>\n",
              "      <th>4</th>\n",
              "      <td>TCP_Camera</td>\n",
              "      <td>142</td>\n",
              "      <td>20</td>\n",
              "      <td>64</td>\n",
              "      <td>6</td>\n",
              "      <td>55778</td>\n",
              "      <td>443</td>\n",
              "      <td>91</td>\n",
              "      <td>1</td>\n",
              "      <td>2529</td>\n",
              "      <td>32</td>\n",
              "      <td>90</td>\n",
              "      <td>2</td>\n",
              "      <td>0</td>\n",
              "      <td>0x40</td>\n",
              "      <td>0x2836</td>\n",
              "      <td>0x7171</td>\n",
              "      <td>0x0018</td>\n",
              "      <td>0x7364</td>\n",
              "    </tr>\n",
              "  </tbody>\n",
              "</table>\n",
              "</div>\n",
              "    <div class=\"colab-df-buttons\">\n",
              "\n",
              "  <div class=\"colab-df-container\">\n",
              "    <button class=\"colab-df-convert\" onclick=\"convertToInteractive('df-a14de213-eda8-4265-a2fd-b069c43abb82')\"\n",
              "            title=\"Convert this dataframe to an interactive table.\"\n",
              "            style=\"display:none;\">\n",
              "\n",
              "  <svg xmlns=\"http://www.w3.org/2000/svg\" height=\"24px\" viewBox=\"0 -960 960 960\">\n",
              "    <path d=\"M120-120v-720h720v720H120Zm60-500h600v-160H180v160Zm220 220h160v-160H400v160Zm0 220h160v-160H400v160ZM180-400h160v-160H180v160Zm440 0h160v-160H620v160ZM180-180h160v-160H180v160Zm440 0h160v-160H620v160Z\"/>\n",
              "  </svg>\n",
              "    </button>\n",
              "\n",
              "  <style>\n",
              "    .colab-df-container {\n",
              "      display:flex;\n",
              "      gap: 12px;\n",
              "    }\n",
              "\n",
              "    .colab-df-convert {\n",
              "      background-color: #E8F0FE;\n",
              "      border: none;\n",
              "      border-radius: 50%;\n",
              "      cursor: pointer;\n",
              "      display: none;\n",
              "      fill: #1967D2;\n",
              "      height: 32px;\n",
              "      padding: 0 0 0 0;\n",
              "      width: 32px;\n",
              "    }\n",
              "\n",
              "    .colab-df-convert:hover {\n",
              "      background-color: #E2EBFA;\n",
              "      box-shadow: 0px 1px 2px rgba(60, 64, 67, 0.3), 0px 1px 3px 1px rgba(60, 64, 67, 0.15);\n",
              "      fill: #174EA6;\n",
              "    }\n",
              "\n",
              "    .colab-df-buttons div {\n",
              "      margin-bottom: 4px;\n",
              "    }\n",
              "\n",
              "    [theme=dark] .colab-df-convert {\n",
              "      background-color: #3B4455;\n",
              "      fill: #D2E3FC;\n",
              "    }\n",
              "\n",
              "    [theme=dark] .colab-df-convert:hover {\n",
              "      background-color: #434B5C;\n",
              "      box-shadow: 0px 1px 3px 1px rgba(0, 0, 0, 0.15);\n",
              "      filter: drop-shadow(0px 1px 2px rgba(0, 0, 0, 0.3));\n",
              "      fill: #FFFFFF;\n",
              "    }\n",
              "  </style>\n",
              "\n",
              "    <script>\n",
              "      const buttonEl =\n",
              "        document.querySelector('#df-a14de213-eda8-4265-a2fd-b069c43abb82 button.colab-df-convert');\n",
              "      buttonEl.style.display =\n",
              "        google.colab.kernel.accessAllowed ? 'block' : 'none';\n",
              "\n",
              "      async function convertToInteractive(key) {\n",
              "        const element = document.querySelector('#df-a14de213-eda8-4265-a2fd-b069c43abb82');\n",
              "        const dataTable =\n",
              "          await google.colab.kernel.invokeFunction('convertToInteractive',\n",
              "                                                    [key], {});\n",
              "        if (!dataTable) return;\n",
              "\n",
              "        const docLinkHtml = 'Like what you see? Visit the ' +\n",
              "          '<a target=\"_blank\" href=https://colab.research.google.com/notebooks/data_table.ipynb>data table notebook</a>'\n",
              "          + ' to learn more about interactive tables.';\n",
              "        element.innerHTML = '';\n",
              "        dataTable['output_type'] = 'display_data';\n",
              "        await google.colab.output.renderOutput(dataTable, element);\n",
              "        const docLink = document.createElement('div');\n",
              "        docLink.innerHTML = docLinkHtml;\n",
              "        element.appendChild(docLink);\n",
              "      }\n",
              "    </script>\n",
              "  </div>\n",
              "\n",
              "\n",
              "<div id=\"df-a8d128af-2654-425e-998e-925d5cc06502\">\n",
              "  <button class=\"colab-df-quickchart\" onclick=\"quickchart('df-a8d128af-2654-425e-998e-925d5cc06502')\"\n",
              "            title=\"Suggest charts\"\n",
              "            style=\"display:none;\">\n",
              "\n",
              "<svg xmlns=\"http://www.w3.org/2000/svg\" height=\"24px\"viewBox=\"0 0 24 24\"\n",
              "     width=\"24px\">\n",
              "    <g>\n",
              "        <path d=\"M19 3H5c-1.1 0-2 .9-2 2v14c0 1.1.9 2 2 2h14c1.1 0 2-.9 2-2V5c0-1.1-.9-2-2-2zM9 17H7v-7h2v7zm4 0h-2V7h2v10zm4 0h-2v-4h2v4z\"/>\n",
              "    </g>\n",
              "</svg>\n",
              "  </button>\n",
              "\n",
              "<style>\n",
              "  .colab-df-quickchart {\n",
              "      --bg-color: #E8F0FE;\n",
              "      --fill-color: #1967D2;\n",
              "      --hover-bg-color: #E2EBFA;\n",
              "      --hover-fill-color: #174EA6;\n",
              "      --disabled-fill-color: #AAA;\n",
              "      --disabled-bg-color: #DDD;\n",
              "  }\n",
              "\n",
              "  [theme=dark] .colab-df-quickchart {\n",
              "      --bg-color: #3B4455;\n",
              "      --fill-color: #D2E3FC;\n",
              "      --hover-bg-color: #434B5C;\n",
              "      --hover-fill-color: #FFFFFF;\n",
              "      --disabled-bg-color: #3B4455;\n",
              "      --disabled-fill-color: #666;\n",
              "  }\n",
              "\n",
              "  .colab-df-quickchart {\n",
              "    background-color: var(--bg-color);\n",
              "    border: none;\n",
              "    border-radius: 50%;\n",
              "    cursor: pointer;\n",
              "    display: none;\n",
              "    fill: var(--fill-color);\n",
              "    height: 32px;\n",
              "    padding: 0;\n",
              "    width: 32px;\n",
              "  }\n",
              "\n",
              "  .colab-df-quickchart:hover {\n",
              "    background-color: var(--hover-bg-color);\n",
              "    box-shadow: 0 1px 2px rgba(60, 64, 67, 0.3), 0 1px 3px 1px rgba(60, 64, 67, 0.15);\n",
              "    fill: var(--button-hover-fill-color);\n",
              "  }\n",
              "\n",
              "  .colab-df-quickchart-complete:disabled,\n",
              "  .colab-df-quickchart-complete:disabled:hover {\n",
              "    background-color: var(--disabled-bg-color);\n",
              "    fill: var(--disabled-fill-color);\n",
              "    box-shadow: none;\n",
              "  }\n",
              "\n",
              "  .colab-df-spinner {\n",
              "    border: 2px solid var(--fill-color);\n",
              "    border-color: transparent;\n",
              "    border-bottom-color: var(--fill-color);\n",
              "    animation:\n",
              "      spin 1s steps(1) infinite;\n",
              "  }\n",
              "\n",
              "  @keyframes spin {\n",
              "    0% {\n",
              "      border-color: transparent;\n",
              "      border-bottom-color: var(--fill-color);\n",
              "      border-left-color: var(--fill-color);\n",
              "    }\n",
              "    20% {\n",
              "      border-color: transparent;\n",
              "      border-left-color: var(--fill-color);\n",
              "      border-top-color: var(--fill-color);\n",
              "    }\n",
              "    30% {\n",
              "      border-color: transparent;\n",
              "      border-left-color: var(--fill-color);\n",
              "      border-top-color: var(--fill-color);\n",
              "      border-right-color: var(--fill-color);\n",
              "    }\n",
              "    40% {\n",
              "      border-color: transparent;\n",
              "      border-right-color: var(--fill-color);\n",
              "      border-top-color: var(--fill-color);\n",
              "    }\n",
              "    60% {\n",
              "      border-color: transparent;\n",
              "      border-right-color: var(--fill-color);\n",
              "    }\n",
              "    80% {\n",
              "      border-color: transparent;\n",
              "      border-right-color: var(--fill-color);\n",
              "      border-bottom-color: var(--fill-color);\n",
              "    }\n",
              "    90% {\n",
              "      border-color: transparent;\n",
              "      border-bottom-color: var(--fill-color);\n",
              "    }\n",
              "  }\n",
              "</style>\n",
              "\n",
              "  <script>\n",
              "    async function quickchart(key) {\n",
              "      const quickchartButtonEl =\n",
              "        document.querySelector('#' + key + ' button');\n",
              "      quickchartButtonEl.disabled = true;  // To prevent multiple clicks.\n",
              "      quickchartButtonEl.classList.add('colab-df-spinner');\n",
              "      try {\n",
              "        const charts = await google.colab.kernel.invokeFunction(\n",
              "            'suggestCharts', [key], {});\n",
              "      } catch (error) {\n",
              "        console.error('Error during call to suggestCharts:', error);\n",
              "      }\n",
              "      quickchartButtonEl.classList.remove('colab-df-spinner');\n",
              "      quickchartButtonEl.classList.add('colab-df-quickchart-complete');\n",
              "    }\n",
              "    (() => {\n",
              "      let quickchartButtonEl =\n",
              "        document.querySelector('#df-a8d128af-2654-425e-998e-925d5cc06502 button');\n",
              "      quickchartButtonEl.style.display =\n",
              "        google.colab.kernel.accessAllowed ? 'block' : 'none';\n",
              "    })();\n",
              "  </script>\n",
              "</div>\n",
              "\n",
              "    </div>\n",
              "  </div>\n"
            ],
            "application/vnd.google.colaboratory.intrinsic+json": {
              "type": "dataframe",
              "variable_name": "df",
              "summary": "{\n  \"name\": \"df\",\n  \"rows\": 13138,\n  \"fields\": [\n    {\n      \"column\": \"Label\",\n      \"properties\": {\n        \"dtype\": \"category\",\n        \"num_unique_values\": 5,\n        \"samples\": [\n          \"TCP_Assistant\",\n          \"TCP_Outlet\",\n          \"TCP_Miscellaneous\"\n        ],\n        \"semantic_type\": \"\",\n        \"description\": \"\"\n      }\n    },\n    {\n      \"column\": \"IPLength\",\n      \"properties\": {\n        \"dtype\": \"number\",\n        \"std\": 93,\n        \"min\": 40,\n        \"max\": 2121,\n        \"num_unique_values\": 108,\n        \"samples\": [\n          803,\n          86,\n          286\n        ],\n        \"semantic_type\": \"\",\n        \"description\": \"\"\n      }\n    },\n    {\n      \"column\": \"IPHeaderLength\",\n      \"properties\": {\n        \"dtype\": \"number\",\n        \"std\": 0,\n        \"min\": 20,\n        \"max\": 20,\n        \"num_unique_values\": 1,\n        \"samples\": [\n          20\n        ],\n        \"semantic_type\": \"\",\n        \"description\": \"\"\n      }\n    },\n    {\n      \"column\": \"TTL\",\n      \"properties\": {\n        \"dtype\": \"number\",\n        \"std\": 60,\n        \"min\": 64,\n        \"max\": 255,\n        \"num_unique_values\": 2,\n        \"samples\": [\n          255\n        ],\n        \"semantic_type\": \"\",\n        \"description\": \"\"\n      }\n    },\n    {\n      \"column\": \"Protocol\",\n      \"properties\": {\n        \"dtype\": \"number\",\n        \"std\": 0,\n        \"min\": 6,\n        \"max\": 6,\n        \"num_unique_values\": 1,\n        \"samples\": [\n          6\n        ],\n        \"semantic_type\": \"\",\n        \"description\": \"\"\n      }\n    },\n    {\n      \"column\": \"SourcePort\",\n      \"properties\": {\n        \"dtype\": \"number\",\n        \"std\": 16335,\n        \"min\": 3114,\n        \"max\": 64272,\n        \"num_unique_values\": 941,\n        \"samples\": [\n          51138\n        ],\n        \"semantic_type\": \"\",\n        \"description\": \"\"\n      }\n    },\n    {\n      \"column\": \"DestPort\",\n      \"properties\": {\n        \"dtype\": \"number\",\n        \"std\": 2556,\n        \"min\": 80,\n        \"max\": 8883,\n        \"num_unique_values\": 8,\n        \"samples\": [\n          5104\n        ],\n        \"semantic_type\": \"\",\n        \"description\": \"\"\n      }\n    },\n    {\n      \"column\": \"SequenceNumber\",\n      \"properties\": {\n        \"dtype\": \"number\",\n        \"std\": 109559,\n        \"min\": 0,\n        \"max\": 335407,\n        \"num_unique_values\": 5339,\n        \"samples\": [\n          255781\n        ],\n        \"semantic_type\": \"\",\n        \"description\": \"\"\n      }\n    },\n    {\n      \"column\": \"AckNumber\",\n      \"properties\": {\n        \"dtype\": \"number\",\n        \"std\": 3085,\n        \"min\": 0,\n        \"max\": 31608,\n        \"num_unique_values\": 837,\n        \"samples\": [\n          1286\n        ],\n        \"semantic_type\": \"\",\n        \"description\": \"\"\n      }\n    },\n    {\n      \"column\": \"WindowSize\",\n      \"properties\": {\n        \"dtype\": \"number\",\n        \"std\": 8509,\n        \"min\": 0,\n        \"max\": 65535,\n        \"num_unique_values\": 83,\n        \"samples\": [\n          2013\n        ],\n        \"semantic_type\": \"\",\n        \"description\": \"\"\n      }\n    },\n    {\n      \"column\": \"TCPHeaderLength\",\n      \"properties\": {\n        \"dtype\": \"number\",\n        \"std\": 5,\n        \"min\": 20,\n        \"max\": 44,\n        \"num_unique_values\": 5,\n        \"samples\": [\n          40\n        ],\n        \"semantic_type\": \"\",\n        \"description\": \"\"\n      }\n    },\n    {\n      \"column\": \"TCPLength\",\n      \"properties\": {\n        \"dtype\": \"number\",\n        \"std\": 94,\n        \"min\": 0,\n        \"max\": 2081,\n        \"num_unique_values\": 103,\n        \"samples\": [\n          82\n        ],\n        \"semantic_type\": \"\",\n        \"description\": \"\"\n      }\n    },\n    {\n      \"column\": \"TCPStream\",\n      \"properties\": {\n        \"dtype\": \"number\",\n        \"std\": 102,\n        \"min\": 0,\n        \"max\": 500,\n        \"num_unique_values\": 501,\n        \"samples\": [\n          362\n        ],\n        \"semantic_type\": \"\",\n        \"description\": \"\"\n      }\n    },\n    {\n      \"column\": \"TCPUrgentPointer\",\n      \"properties\": {\n        \"dtype\": \"number\",\n        \"std\": 0,\n        \"min\": 0,\n        \"max\": 0,\n        \"num_unique_values\": 1,\n        \"samples\": [\n          0\n        ],\n        \"semantic_type\": \"\",\n        \"description\": \"\"\n      }\n    },\n    {\n      \"column\": \"IPFlags\",\n      \"properties\": {\n        \"dtype\": \"category\",\n        \"num_unique_values\": 2,\n        \"samples\": [\n          \"0x00\"\n        ],\n        \"semantic_type\": \"\",\n        \"description\": \"\"\n      }\n    },\n    {\n      \"column\": \"IPID\",\n      \"properties\": {\n        \"dtype\": \"string\",\n        \"num_unique_values\": 11795,\n        \"samples\": [\n          \"0x5b5b\"\n        ],\n        \"semantic_type\": \"\",\n        \"description\": \"\"\n      }\n    },\n    {\n      \"column\": \"IPchecksum\",\n      \"properties\": {\n        \"dtype\": \"string\",\n        \"num_unique_values\": 10867,\n        \"samples\": [\n          \"0xed15\"\n        ],\n        \"semantic_type\": \"\",\n        \"description\": \"\"\n      }\n    },\n    {\n      \"column\": \"TCPflags\",\n      \"properties\": {\n        \"dtype\": \"category\",\n        \"num_unique_values\": 7,\n        \"samples\": [\n          \"0x0018\"\n        ],\n        \"semantic_type\": \"\",\n        \"description\": \"\"\n      }\n    },\n    {\n      \"column\": \"TCPChecksum\",\n      \"properties\": {\n        \"dtype\": \"string\",\n        \"num_unique_values\": 11752,\n        \"samples\": [\n          \"0x400e\"\n        ],\n        \"semantic_type\": \"\",\n        \"description\": \"\"\n      }\n    }\n  ]\n}"
            }
          },
          "metadata": {},
          "execution_count": 9
        }
      ]
    },
    {
      "cell_type": "markdown",
      "source": [
        "Summary of the data :"
      ],
      "metadata": {
        "id": "wRiXREZWRW8j"
      }
    },
    {
      "cell_type": "code",
      "source": [
        "df.describe()"
      ],
      "metadata": {
        "colab": {
          "base_uri": "https://localhost:8080/",
          "height": 320
        },
        "id": "HcGej_ohRZHF",
        "outputId": "191c7e0d-0ff9-4854-da01-5fbf94559c5e"
      },
      "execution_count": 11,
      "outputs": [
        {
          "output_type": "execute_result",
          "data": {
            "text/plain": [
              "           IPLength  IPHeaderLength           TTL  Protocol    SourcePort  \\\n",
              "count  13138.000000         13138.0  13138.000000   13138.0  13138.000000   \n",
              "mean     120.448013            20.0     85.239991       6.0  43630.214112   \n",
              "std       93.499149             0.0     60.049775       0.0  16335.677809   \n",
              "min       40.000000            20.0     64.000000       6.0   3114.000000   \n",
              "25%       60.000000            20.0     64.000000       6.0  43932.000000   \n",
              "50%      142.000000            20.0     64.000000       6.0  45739.000000   \n",
              "75%      142.000000            20.0     64.000000       6.0  55778.000000   \n",
              "max     2121.000000            20.0    255.000000       6.0  64272.000000   \n",
              "\n",
              "           DestPort  SequenceNumber     AckNumber    WindowSize  \\\n",
              "count  13138.000000    13138.000000  13138.000000  13138.000000   \n",
              "mean    1354.488354    93658.302710   3025.156340   4440.494976   \n",
              "std     2556.691031   109559.693507   3085.758423   8509.833017   \n",
              "min       80.000000        0.000000      0.000000      0.000000   \n",
              "25%      443.000000      147.000000     75.000000   1689.000000   \n",
              "50%      443.000000    33649.000000   2369.000000   2529.000000   \n",
              "75%      443.000000   184194.500000   5403.000000   2529.000000   \n",
              "max     8883.000000   335407.000000  31608.000000  65535.000000   \n",
              "\n",
              "       TCPHeaderLength     TCPLength     TCPStream  TCPUrgentPointer  \n",
              "count     13138.000000  13138.000000  13138.000000           13138.0  \n",
              "mean         31.397777     69.050236     48.901507               0.0  \n",
              "std           5.009447     94.361229    102.540109               0.0  \n",
              "min          20.000000      0.000000      0.000000               0.0  \n",
              "25%          32.000000      0.000000      0.000000               0.0  \n",
              "50%          32.000000     90.000000      2.000000               0.0  \n",
              "75%          32.000000     90.000000     35.000000               0.0  \n",
              "max          44.000000   2081.000000    500.000000               0.0  "
            ],
            "text/html": [
              "\n",
              "  <div id=\"df-016119f6-f348-43ab-b331-4a85d4227fe3\" class=\"colab-df-container\">\n",
              "    <div>\n",
              "<style scoped>\n",
              "    .dataframe tbody tr th:only-of-type {\n",
              "        vertical-align: middle;\n",
              "    }\n",
              "\n",
              "    .dataframe tbody tr th {\n",
              "        vertical-align: top;\n",
              "    }\n",
              "\n",
              "    .dataframe thead th {\n",
              "        text-align: right;\n",
              "    }\n",
              "</style>\n",
              "<table border=\"1\" class=\"dataframe\">\n",
              "  <thead>\n",
              "    <tr style=\"text-align: right;\">\n",
              "      <th></th>\n",
              "      <th>IPLength</th>\n",
              "      <th>IPHeaderLength</th>\n",
              "      <th>TTL</th>\n",
              "      <th>Protocol</th>\n",
              "      <th>SourcePort</th>\n",
              "      <th>DestPort</th>\n",
              "      <th>SequenceNumber</th>\n",
              "      <th>AckNumber</th>\n",
              "      <th>WindowSize</th>\n",
              "      <th>TCPHeaderLength</th>\n",
              "      <th>TCPLength</th>\n",
              "      <th>TCPStream</th>\n",
              "      <th>TCPUrgentPointer</th>\n",
              "    </tr>\n",
              "  </thead>\n",
              "  <tbody>\n",
              "    <tr>\n",
              "      <th>count</th>\n",
              "      <td>13138.000000</td>\n",
              "      <td>13138.0</td>\n",
              "      <td>13138.000000</td>\n",
              "      <td>13138.0</td>\n",
              "      <td>13138.000000</td>\n",
              "      <td>13138.000000</td>\n",
              "      <td>13138.000000</td>\n",
              "      <td>13138.000000</td>\n",
              "      <td>13138.000000</td>\n",
              "      <td>13138.000000</td>\n",
              "      <td>13138.000000</td>\n",
              "      <td>13138.000000</td>\n",
              "      <td>13138.0</td>\n",
              "    </tr>\n",
              "    <tr>\n",
              "      <th>mean</th>\n",
              "      <td>120.448013</td>\n",
              "      <td>20.0</td>\n",
              "      <td>85.239991</td>\n",
              "      <td>6.0</td>\n",
              "      <td>43630.214112</td>\n",
              "      <td>1354.488354</td>\n",
              "      <td>93658.302710</td>\n",
              "      <td>3025.156340</td>\n",
              "      <td>4440.494976</td>\n",
              "      <td>31.397777</td>\n",
              "      <td>69.050236</td>\n",
              "      <td>48.901507</td>\n",
              "      <td>0.0</td>\n",
              "    </tr>\n",
              "    <tr>\n",
              "      <th>std</th>\n",
              "      <td>93.499149</td>\n",
              "      <td>0.0</td>\n",
              "      <td>60.049775</td>\n",
              "      <td>0.0</td>\n",
              "      <td>16335.677809</td>\n",
              "      <td>2556.691031</td>\n",
              "      <td>109559.693507</td>\n",
              "      <td>3085.758423</td>\n",
              "      <td>8509.833017</td>\n",
              "      <td>5.009447</td>\n",
              "      <td>94.361229</td>\n",
              "      <td>102.540109</td>\n",
              "      <td>0.0</td>\n",
              "    </tr>\n",
              "    <tr>\n",
              "      <th>min</th>\n",
              "      <td>40.000000</td>\n",
              "      <td>20.0</td>\n",
              "      <td>64.000000</td>\n",
              "      <td>6.0</td>\n",
              "      <td>3114.000000</td>\n",
              "      <td>80.000000</td>\n",
              "      <td>0.000000</td>\n",
              "      <td>0.000000</td>\n",
              "      <td>0.000000</td>\n",
              "      <td>20.000000</td>\n",
              "      <td>0.000000</td>\n",
              "      <td>0.000000</td>\n",
              "      <td>0.0</td>\n",
              "    </tr>\n",
              "    <tr>\n",
              "      <th>25%</th>\n",
              "      <td>60.000000</td>\n",
              "      <td>20.0</td>\n",
              "      <td>64.000000</td>\n",
              "      <td>6.0</td>\n",
              "      <td>43932.000000</td>\n",
              "      <td>443.000000</td>\n",
              "      <td>147.000000</td>\n",
              "      <td>75.000000</td>\n",
              "      <td>1689.000000</td>\n",
              "      <td>32.000000</td>\n",
              "      <td>0.000000</td>\n",
              "      <td>0.000000</td>\n",
              "      <td>0.0</td>\n",
              "    </tr>\n",
              "    <tr>\n",
              "      <th>50%</th>\n",
              "      <td>142.000000</td>\n",
              "      <td>20.0</td>\n",
              "      <td>64.000000</td>\n",
              "      <td>6.0</td>\n",
              "      <td>45739.000000</td>\n",
              "      <td>443.000000</td>\n",
              "      <td>33649.000000</td>\n",
              "      <td>2369.000000</td>\n",
              "      <td>2529.000000</td>\n",
              "      <td>32.000000</td>\n",
              "      <td>90.000000</td>\n",
              "      <td>2.000000</td>\n",
              "      <td>0.0</td>\n",
              "    </tr>\n",
              "    <tr>\n",
              "      <th>75%</th>\n",
              "      <td>142.000000</td>\n",
              "      <td>20.0</td>\n",
              "      <td>64.000000</td>\n",
              "      <td>6.0</td>\n",
              "      <td>55778.000000</td>\n",
              "      <td>443.000000</td>\n",
              "      <td>184194.500000</td>\n",
              "      <td>5403.000000</td>\n",
              "      <td>2529.000000</td>\n",
              "      <td>32.000000</td>\n",
              "      <td>90.000000</td>\n",
              "      <td>35.000000</td>\n",
              "      <td>0.0</td>\n",
              "    </tr>\n",
              "    <tr>\n",
              "      <th>max</th>\n",
              "      <td>2121.000000</td>\n",
              "      <td>20.0</td>\n",
              "      <td>255.000000</td>\n",
              "      <td>6.0</td>\n",
              "      <td>64272.000000</td>\n",
              "      <td>8883.000000</td>\n",
              "      <td>335407.000000</td>\n",
              "      <td>31608.000000</td>\n",
              "      <td>65535.000000</td>\n",
              "      <td>44.000000</td>\n",
              "      <td>2081.000000</td>\n",
              "      <td>500.000000</td>\n",
              "      <td>0.0</td>\n",
              "    </tr>\n",
              "  </tbody>\n",
              "</table>\n",
              "</div>\n",
              "    <div class=\"colab-df-buttons\">\n",
              "\n",
              "  <div class=\"colab-df-container\">\n",
              "    <button class=\"colab-df-convert\" onclick=\"convertToInteractive('df-016119f6-f348-43ab-b331-4a85d4227fe3')\"\n",
              "            title=\"Convert this dataframe to an interactive table.\"\n",
              "            style=\"display:none;\">\n",
              "\n",
              "  <svg xmlns=\"http://www.w3.org/2000/svg\" height=\"24px\" viewBox=\"0 -960 960 960\">\n",
              "    <path d=\"M120-120v-720h720v720H120Zm60-500h600v-160H180v160Zm220 220h160v-160H400v160Zm0 220h160v-160H400v160ZM180-400h160v-160H180v160Zm440 0h160v-160H620v160ZM180-180h160v-160H180v160Zm440 0h160v-160H620v160Z\"/>\n",
              "  </svg>\n",
              "    </button>\n",
              "\n",
              "  <style>\n",
              "    .colab-df-container {\n",
              "      display:flex;\n",
              "      gap: 12px;\n",
              "    }\n",
              "\n",
              "    .colab-df-convert {\n",
              "      background-color: #E8F0FE;\n",
              "      border: none;\n",
              "      border-radius: 50%;\n",
              "      cursor: pointer;\n",
              "      display: none;\n",
              "      fill: #1967D2;\n",
              "      height: 32px;\n",
              "      padding: 0 0 0 0;\n",
              "      width: 32px;\n",
              "    }\n",
              "\n",
              "    .colab-df-convert:hover {\n",
              "      background-color: #E2EBFA;\n",
              "      box-shadow: 0px 1px 2px rgba(60, 64, 67, 0.3), 0px 1px 3px 1px rgba(60, 64, 67, 0.15);\n",
              "      fill: #174EA6;\n",
              "    }\n",
              "\n",
              "    .colab-df-buttons div {\n",
              "      margin-bottom: 4px;\n",
              "    }\n",
              "\n",
              "    [theme=dark] .colab-df-convert {\n",
              "      background-color: #3B4455;\n",
              "      fill: #D2E3FC;\n",
              "    }\n",
              "\n",
              "    [theme=dark] .colab-df-convert:hover {\n",
              "      background-color: #434B5C;\n",
              "      box-shadow: 0px 1px 3px 1px rgba(0, 0, 0, 0.15);\n",
              "      filter: drop-shadow(0px 1px 2px rgba(0, 0, 0, 0.3));\n",
              "      fill: #FFFFFF;\n",
              "    }\n",
              "  </style>\n",
              "\n",
              "    <script>\n",
              "      const buttonEl =\n",
              "        document.querySelector('#df-016119f6-f348-43ab-b331-4a85d4227fe3 button.colab-df-convert');\n",
              "      buttonEl.style.display =\n",
              "        google.colab.kernel.accessAllowed ? 'block' : 'none';\n",
              "\n",
              "      async function convertToInteractive(key) {\n",
              "        const element = document.querySelector('#df-016119f6-f348-43ab-b331-4a85d4227fe3');\n",
              "        const dataTable =\n",
              "          await google.colab.kernel.invokeFunction('convertToInteractive',\n",
              "                                                    [key], {});\n",
              "        if (!dataTable) return;\n",
              "\n",
              "        const docLinkHtml = 'Like what you see? Visit the ' +\n",
              "          '<a target=\"_blank\" href=https://colab.research.google.com/notebooks/data_table.ipynb>data table notebook</a>'\n",
              "          + ' to learn more about interactive tables.';\n",
              "        element.innerHTML = '';\n",
              "        dataTable['output_type'] = 'display_data';\n",
              "        await google.colab.output.renderOutput(dataTable, element);\n",
              "        const docLink = document.createElement('div');\n",
              "        docLink.innerHTML = docLinkHtml;\n",
              "        element.appendChild(docLink);\n",
              "      }\n",
              "    </script>\n",
              "  </div>\n",
              "\n",
              "\n",
              "<div id=\"df-6f0d95d5-0412-4251-abd0-1a7c443c5462\">\n",
              "  <button class=\"colab-df-quickchart\" onclick=\"quickchart('df-6f0d95d5-0412-4251-abd0-1a7c443c5462')\"\n",
              "            title=\"Suggest charts\"\n",
              "            style=\"display:none;\">\n",
              "\n",
              "<svg xmlns=\"http://www.w3.org/2000/svg\" height=\"24px\"viewBox=\"0 0 24 24\"\n",
              "     width=\"24px\">\n",
              "    <g>\n",
              "        <path d=\"M19 3H5c-1.1 0-2 .9-2 2v14c0 1.1.9 2 2 2h14c1.1 0 2-.9 2-2V5c0-1.1-.9-2-2-2zM9 17H7v-7h2v7zm4 0h-2V7h2v10zm4 0h-2v-4h2v4z\"/>\n",
              "    </g>\n",
              "</svg>\n",
              "  </button>\n",
              "\n",
              "<style>\n",
              "  .colab-df-quickchart {\n",
              "      --bg-color: #E8F0FE;\n",
              "      --fill-color: #1967D2;\n",
              "      --hover-bg-color: #E2EBFA;\n",
              "      --hover-fill-color: #174EA6;\n",
              "      --disabled-fill-color: #AAA;\n",
              "      --disabled-bg-color: #DDD;\n",
              "  }\n",
              "\n",
              "  [theme=dark] .colab-df-quickchart {\n",
              "      --bg-color: #3B4455;\n",
              "      --fill-color: #D2E3FC;\n",
              "      --hover-bg-color: #434B5C;\n",
              "      --hover-fill-color: #FFFFFF;\n",
              "      --disabled-bg-color: #3B4455;\n",
              "      --disabled-fill-color: #666;\n",
              "  }\n",
              "\n",
              "  .colab-df-quickchart {\n",
              "    background-color: var(--bg-color);\n",
              "    border: none;\n",
              "    border-radius: 50%;\n",
              "    cursor: pointer;\n",
              "    display: none;\n",
              "    fill: var(--fill-color);\n",
              "    height: 32px;\n",
              "    padding: 0;\n",
              "    width: 32px;\n",
              "  }\n",
              "\n",
              "  .colab-df-quickchart:hover {\n",
              "    background-color: var(--hover-bg-color);\n",
              "    box-shadow: 0 1px 2px rgba(60, 64, 67, 0.3), 0 1px 3px 1px rgba(60, 64, 67, 0.15);\n",
              "    fill: var(--button-hover-fill-color);\n",
              "  }\n",
              "\n",
              "  .colab-df-quickchart-complete:disabled,\n",
              "  .colab-df-quickchart-complete:disabled:hover {\n",
              "    background-color: var(--disabled-bg-color);\n",
              "    fill: var(--disabled-fill-color);\n",
              "    box-shadow: none;\n",
              "  }\n",
              "\n",
              "  .colab-df-spinner {\n",
              "    border: 2px solid var(--fill-color);\n",
              "    border-color: transparent;\n",
              "    border-bottom-color: var(--fill-color);\n",
              "    animation:\n",
              "      spin 1s steps(1) infinite;\n",
              "  }\n",
              "\n",
              "  @keyframes spin {\n",
              "    0% {\n",
              "      border-color: transparent;\n",
              "      border-bottom-color: var(--fill-color);\n",
              "      border-left-color: var(--fill-color);\n",
              "    }\n",
              "    20% {\n",
              "      border-color: transparent;\n",
              "      border-left-color: var(--fill-color);\n",
              "      border-top-color: var(--fill-color);\n",
              "    }\n",
              "    30% {\n",
              "      border-color: transparent;\n",
              "      border-left-color: var(--fill-color);\n",
              "      border-top-color: var(--fill-color);\n",
              "      border-right-color: var(--fill-color);\n",
              "    }\n",
              "    40% {\n",
              "      border-color: transparent;\n",
              "      border-right-color: var(--fill-color);\n",
              "      border-top-color: var(--fill-color);\n",
              "    }\n",
              "    60% {\n",
              "      border-color: transparent;\n",
              "      border-right-color: var(--fill-color);\n",
              "    }\n",
              "    80% {\n",
              "      border-color: transparent;\n",
              "      border-right-color: var(--fill-color);\n",
              "      border-bottom-color: var(--fill-color);\n",
              "    }\n",
              "    90% {\n",
              "      border-color: transparent;\n",
              "      border-bottom-color: var(--fill-color);\n",
              "    }\n",
              "  }\n",
              "</style>\n",
              "\n",
              "  <script>\n",
              "    async function quickchart(key) {\n",
              "      const quickchartButtonEl =\n",
              "        document.querySelector('#' + key + ' button');\n",
              "      quickchartButtonEl.disabled = true;  // To prevent multiple clicks.\n",
              "      quickchartButtonEl.classList.add('colab-df-spinner');\n",
              "      try {\n",
              "        const charts = await google.colab.kernel.invokeFunction(\n",
              "            'suggestCharts', [key], {});\n",
              "      } catch (error) {\n",
              "        console.error('Error during call to suggestCharts:', error);\n",
              "      }\n",
              "      quickchartButtonEl.classList.remove('colab-df-spinner');\n",
              "      quickchartButtonEl.classList.add('colab-df-quickchart-complete');\n",
              "    }\n",
              "    (() => {\n",
              "      let quickchartButtonEl =\n",
              "        document.querySelector('#df-6f0d95d5-0412-4251-abd0-1a7c443c5462 button');\n",
              "      quickchartButtonEl.style.display =\n",
              "        google.colab.kernel.accessAllowed ? 'block' : 'none';\n",
              "    })();\n",
              "  </script>\n",
              "</div>\n",
              "\n",
              "    </div>\n",
              "  </div>\n"
            ],
            "application/vnd.google.colaboratory.intrinsic+json": {
              "type": "dataframe",
              "summary": "{\n  \"name\": \"df\",\n  \"rows\": 8,\n  \"fields\": [\n    {\n      \"column\": \"IPLength\",\n      \"properties\": {\n        \"dtype\": \"number\",\n        \"std\": 4562.958253338469,\n        \"min\": 40.0,\n        \"max\": 13138.0,\n        \"num_unique_values\": 7,\n        \"samples\": [\n          13138.0,\n          120.44801339625513,\n          142.0\n        ],\n        \"semantic_type\": \"\",\n        \"description\": \"\"\n      }\n    },\n    {\n      \"column\": \"IPHeaderLength\",\n      \"properties\": {\n        \"dtype\": \"number\",\n        \"std\": 4638.928809542134,\n        \"min\": 0.0,\n        \"max\": 13138.0,\n        \"num_unique_values\": 3,\n        \"samples\": [\n          13138.0,\n          20.0,\n          0.0\n        ],\n        \"semantic_type\": \"\",\n        \"description\": \"\"\n      }\n    },\n    {\n      \"column\": \"TTL\",\n      \"properties\": {\n        \"dtype\": \"number\",\n        \"std\": 4612.313040151554,\n        \"min\": 60.04977529169196,\n        \"max\": 13138.0,\n        \"num_unique_values\": 5,\n        \"samples\": [\n          85.23999086618967,\n          255.0,\n          60.04977529169196\n        ],\n        \"semantic_type\": \"\",\n        \"description\": \"\"\n      }\n    },\n    {\n      \"column\": \"Protocol\",\n      \"properties\": {\n        \"dtype\": \"number\",\n        \"std\": 4643.166645727892,\n        \"min\": 0.0,\n        \"max\": 13138.0,\n        \"num_unique_values\": 3,\n        \"samples\": [\n          13138.0,\n          6.0,\n          0.0\n        ],\n        \"semantic_type\": \"\",\n        \"description\": \"\"\n      }\n    },\n    {\n      \"column\": \"SourcePort\",\n      \"properties\": {\n        \"dtype\": \"number\",\n        \"std\": 22028.471079785562,\n        \"min\": 3114.0,\n        \"max\": 64272.0,\n        \"num_unique_values\": 8,\n        \"samples\": [\n          43630.21411173695,\n          45739.0,\n          13138.0\n        ],\n        \"semantic_type\": \"\",\n        \"description\": \"\"\n      }\n    },\n    {\n      \"column\": \"DestPort\",\n      \"properties\": {\n        \"dtype\": \"number\",\n        \"std\": 4884.942995086274,\n        \"min\": 80.0,\n        \"max\": 13138.0,\n        \"num_unique_values\": 6,\n        \"samples\": [\n          13138.0,\n          1354.4883543918404,\n          8883.0\n        ],\n        \"semantic_type\": \"\",\n        \"description\": \"\"\n      }\n    },\n    {\n      \"column\": \"SequenceNumber\",\n      \"properties\": {\n        \"dtype\": \"number\",\n        \"std\": 116152.91757224937,\n        \"min\": 0.0,\n        \"max\": 335407.0,\n        \"num_unique_values\": 8,\n        \"samples\": [\n          93658.30270969706,\n          33649.0,\n          13138.0\n        ],\n        \"semantic_type\": \"\",\n        \"description\": \"\"\n      }\n    },\n    {\n      \"column\": \"AckNumber\",\n      \"properties\": {\n        \"dtype\": \"number\",\n        \"std\": 10652.884772668742,\n        \"min\": 0.0,\n        \"max\": 31608.0,\n        \"num_unique_values\": 8,\n        \"samples\": [\n          3025.156340386665,\n          2369.0,\n          13138.0\n        ],\n        \"semantic_type\": \"\",\n        \"description\": \"\"\n      }\n    },\n    {\n      \"column\": \"WindowSize\",\n      \"properties\": {\n        \"dtype\": \"number\",\n        \"std\": 21927.25879201804,\n        \"min\": 0.0,\n        \"max\": 65535.0,\n        \"num_unique_values\": 7,\n        \"samples\": [\n          13138.0,\n          4440.494976404323,\n          2529.0\n        ],\n        \"semantic_type\": \"\",\n        \"description\": \"\"\n      }\n    },\n    {\n      \"column\": \"TCPHeaderLength\",\n      \"properties\": {\n        \"dtype\": \"number\",\n        \"std\": 4635.0783767735265,\n        \"min\": 5.009446926218721,\n        \"max\": 13138.0,\n        \"num_unique_values\": 6,\n        \"samples\": [\n          13138.0,\n          31.397777439488507,\n          44.0\n        ],\n        \"semantic_type\": \"\",\n        \"description\": \"\"\n      }\n    },\n    {\n      \"column\": \"TCPLength\",\n      \"properties\": {\n        \"dtype\": \"number\",\n        \"std\": 4577.80196245674,\n        \"min\": 0.0,\n        \"max\": 13138.0,\n        \"num_unique_values\": 6,\n        \"samples\": [\n          13138.0,\n          69.05023595676663,\n          2081.0\n        ],\n        \"semantic_type\": \"\",\n        \"description\": \"\"\n      }\n    },\n    {\n      \"column\": \"TCPStream\",\n      \"properties\": {\n        \"dtype\": \"number\",\n        \"std\": 4613.255247664505,\n        \"min\": 0.0,\n        \"max\": 13138.0,\n        \"num_unique_values\": 7,\n        \"samples\": [\n          13138.0,\n          48.901507078703,\n          35.0\n        ],\n        \"semantic_type\": \"\",\n        \"description\": \"\"\n      }\n    },\n    {\n      \"column\": \"TCPUrgentPointer\",\n      \"properties\": {\n        \"dtype\": \"number\",\n        \"std\": 4644.984445614431,\n        \"min\": 0.0,\n        \"max\": 13138.0,\n        \"num_unique_values\": 2,\n        \"samples\": [\n          0.0,\n          13138.0\n        ],\n        \"semantic_type\": \"\",\n        \"description\": \"\"\n      }\n    }\n  ]\n}"
            }
          },
          "metadata": {},
          "execution_count": 11
        }
      ]
    },
    {
      "cell_type": "markdown",
      "source": [
        "## Part 2: Exploring the Dataset Using ydata_profiling"
      ],
      "metadata": {
        "id": "eF6TNqZzNnrZ"
      }
    },
    {
      "cell_type": "markdown",
      "source": [
        "First we need to install the required librairies :"
      ],
      "metadata": {
        "id": "mMdvIJvMR0zB"
      }
    },
    {
      "cell_type": "code",
      "source": [
        "!pip install ydata-profiling"
      ],
      "metadata": {
        "id": "4gRhtymQHbhT"
      },
      "execution_count": null,
      "outputs": []
    },
    {
      "cell_type": "markdown",
      "source": [
        "Than we import the necessary librairies"
      ],
      "metadata": {
        "id": "DYQzUQyXSAam"
      }
    },
    {
      "cell_type": "code",
      "source": [
        "import pandas as pd\n",
        "from ydata_profiling import ProfileReport"
      ],
      "metadata": {
        "id": "09gXFPhWR6qF"
      },
      "execution_count": 13,
      "outputs": []
    },
    {
      "cell_type": "markdown",
      "source": [
        "After that we need to load the CSV Dataset"
      ],
      "metadata": {
        "id": "is0kPLqlSXbT"
      }
    },
    {
      "cell_type": "code",
      "source": [
        "df = pd.read_csv('/content/label_feature_IOT.csv')"
      ],
      "metadata": {
        "id": "vE_R1gDvSICB"
      },
      "execution_count": 14,
      "outputs": []
    },
    {
      "cell_type": "markdown",
      "source": [
        "Now, we can generate the profiling report : (the explorative=True flag adds more detail analysis options to the report)  "
      ],
      "metadata": {
        "id": "IrHHiIf_SjaJ"
      }
    },
    {
      "cell_type": "code",
      "source": [
        "profile = ProfileReport(df, title=\"IoT Device Dataset Profiling Report\", explorative=True)\n",
        "profile.to_file(\"/content/IOT_dataset_profile_report.html\")"
      ],
      "metadata": {
        "colab": {
          "base_uri": "https://localhost:8080/",
          "height": 200,
          "referenced_widgets": [
            "4667b691536944b5885183c463c539cf",
            "efa1326232b34071b825b58b2ce518c8",
            "bd65ad58c8894c71a0684078710b4e46",
            "5f2bd44a4be84a869fc75a6409f1beb9",
            "1963ab264b034ed6976ebd733c6634b7",
            "8aab480c041f4c90be5376629c8ca8fa",
            "da7ccfc879fd45ada0f4baeb587e10cd",
            "e320813b7ae54908a4efd1bc337eea74",
            "ea74f5cdd1454c57aac59b81ad7fa13b",
            "fb70705c6f68496e84b6346d2811afec",
            "73bc466e37434fac98bde08b9e0cd3de",
            "3e2c6001207f4797b9f67b49408a2cfa",
            "2ecd09970cb241ba89c0b4222aee3873",
            "74b24b7c9360414681f3448dd981752d",
            "d93b7a68d2b24c33a431273fde80e120",
            "8099486d7c5149a48d4ca6e72c9ccfbd",
            "a5b8a12dbabf4c3ea90fd45933969f6b",
            "82709233237a4553b3027790c743de33",
            "3e7f2e7f6a9b48dbb6770555ce2cd980",
            "a85a2d8e77914fd38b6eca5bee16647b",
            "4ed39c42bc094aeda90e463f67aa396f",
            "e24622947c3b4710806f17670c5eb5df",
            "4e92edc874b24ad8901644aa8b3f777e",
            "511c714a5b3e40b6bef599ef464d20a3",
            "a9b0971b195740ab8d511cadfcfd7978",
            "5c74acb2e04a466a92ff3261297f68ea",
            "f89fa2c7a76744df998ada8c8a0360e5",
            "eba53973cb724b9289385d702cd4cd24",
            "de85abf09fbd42de861189d5b35cc015",
            "6d9b8da3f03b492991bdaba98eca6100",
            "f04c7c22a5cf4dd38d717ae078564c88",
            "2746a89c2c524a66accebd635797f81b",
            "b1de508790974b9c90d7bafe5f96c753",
            "1d5fb46d07a54177861de21ca2c30651",
            "004574fe68d74aba909ac0b6ee8ad10a",
            "bb52e831812048c7b38a8d66840c6c7c",
            "199b9bc50efa480fbb43e5089d3e5dd0",
            "2d793f5be8514545a6715590f4c9c9fe",
            "dd4d0e6100744c4188de1693d29eb574",
            "ed0bc8784a46443782e9812f3debde35",
            "2af8fa1ce0b0462fad00a3d1fb86f01e",
            "07073695def945e7a312cb5529f4c2fe",
            "0bbd054120f6457bb491d3f88df7c305",
            "a82fa807d0e94c10adc09aaa5e088d19"
          ]
        },
        "id": "ohWnYX0QSdJK",
        "outputId": "a3e67175-fcdf-4c92-a141-e69289bc9d68"
      },
      "execution_count": 15,
      "outputs": [
        {
          "output_type": "stream",
          "name": "stderr",
          "text": [
            "/usr/local/lib/python3.10/dist-packages/ydata_profiling/profile_report.py:363: UserWarning: Try running command: 'pip install --upgrade Pillow' to avoid ValueError\n",
            "  warnings.warn(\n"
          ]
        },
        {
          "output_type": "display_data",
          "data": {
            "text/plain": [
              "Summarize dataset:   0%|          | 0/5 [00:00<?, ?it/s]"
            ],
            "application/vnd.jupyter.widget-view+json": {
              "version_major": 2,
              "version_minor": 0,
              "model_id": "4667b691536944b5885183c463c539cf"
            }
          },
          "metadata": {}
        },
        {
          "output_type": "display_data",
          "data": {
            "text/plain": [
              "Generate report structure:   0%|          | 0/1 [00:00<?, ?it/s]"
            ],
            "application/vnd.jupyter.widget-view+json": {
              "version_major": 2,
              "version_minor": 0,
              "model_id": "3e2c6001207f4797b9f67b49408a2cfa"
            }
          },
          "metadata": {}
        },
        {
          "output_type": "display_data",
          "data": {
            "text/plain": [
              "Render HTML:   0%|          | 0/1 [00:00<?, ?it/s]"
            ],
            "application/vnd.jupyter.widget-view+json": {
              "version_major": 2,
              "version_minor": 0,
              "model_id": "4e92edc874b24ad8901644aa8b3f777e"
            }
          },
          "metadata": {}
        },
        {
          "output_type": "display_data",
          "data": {
            "text/plain": [
              "Export report to file:   0%|          | 0/1 [00:00<?, ?it/s]"
            ],
            "application/vnd.jupyter.widget-view+json": {
              "version_major": 2,
              "version_minor": 0,
              "model_id": "1d5fb46d07a54177861de21ca2c30651"
            }
          },
          "metadata": {}
        }
      ]
    },
    {
      "cell_type": "markdown",
      "source": [
        "Now we can download the generated report and review it"
      ],
      "metadata": {
        "id": "pLXEx5LkTJ5O"
      }
    },
    {
      "cell_type": "code",
      "source": [
        "from google.colab import files\n",
        "files.download('/content/IOT_dataset_profile_report.html')"
      ],
      "metadata": {
        "colab": {
          "base_uri": "https://localhost:8080/",
          "height": 17
        },
        "id": "Y-s0dlHxS-xY",
        "outputId": "23062988-9a4d-44fc-ef0a-58489bfa3f5b"
      },
      "execution_count": 16,
      "outputs": [
        {
          "output_type": "display_data",
          "data": {
            "text/plain": [
              "<IPython.core.display.Javascript object>"
            ],
            "application/javascript": [
              "\n",
              "    async function download(id, filename, size) {\n",
              "      if (!google.colab.kernel.accessAllowed) {\n",
              "        return;\n",
              "      }\n",
              "      const div = document.createElement('div');\n",
              "      const label = document.createElement('label');\n",
              "      label.textContent = `Downloading \"${filename}\": `;\n",
              "      div.appendChild(label);\n",
              "      const progress = document.createElement('progress');\n",
              "      progress.max = size;\n",
              "      div.appendChild(progress);\n",
              "      document.body.appendChild(div);\n",
              "\n",
              "      const buffers = [];\n",
              "      let downloaded = 0;\n",
              "\n",
              "      const channel = await google.colab.kernel.comms.open(id);\n",
              "      // Send a message to notify the kernel that we're ready.\n",
              "      channel.send({})\n",
              "\n",
              "      for await (const message of channel.messages) {\n",
              "        // Send a message to notify the kernel that we're ready.\n",
              "        channel.send({})\n",
              "        if (message.buffers) {\n",
              "          for (const buffer of message.buffers) {\n",
              "            buffers.push(buffer);\n",
              "            downloaded += buffer.byteLength;\n",
              "            progress.value = downloaded;\n",
              "          }\n",
              "        }\n",
              "      }\n",
              "      const blob = new Blob(buffers, {type: 'application/binary'});\n",
              "      const a = document.createElement('a');\n",
              "      a.href = window.URL.createObjectURL(blob);\n",
              "      a.download = filename;\n",
              "      div.appendChild(a);\n",
              "      a.click();\n",
              "      div.remove();\n",
              "    }\n",
              "  "
            ]
          },
          "metadata": {}
        },
        {
          "output_type": "display_data",
          "data": {
            "text/plain": [
              "<IPython.core.display.Javascript object>"
            ],
            "application/javascript": [
              "download(\"download_b286ca60-c903-4437-9eef-0b1e69789075\", \"IOT_dataset_profile_report.html\", 5838457)"
            ]
          },
          "metadata": {}
        }
      ]
    },
    {
      "cell_type": "markdown",
      "source": [
        "### Part 3: Classification of IoT Devices Using Logistic Regression and K-Nearest Neighbors"
      ],
      "metadata": {
        "id": "DvaJb6BuV9wJ"
      }
    },
    {
      "cell_type": "code",
      "source": [
        "import pandas as pd ## Data manipulation and analysis library, used for handling the CSV file and DataFrame operations.\n",
        "import numpy as np ## Numerical computing library, provides support for large, multi-dimensional arrays and matrices.\n",
        "from sklearn.model_selection import train_test_split ## Function to split datasets into random train and test subsets.\n",
        "from sklearn.preprocessing import StandardScaler, LabelEncoder ## Class to standardize features by removing the mean and scaling to unit variance.\n",
        "from sklearn.linear_model import LogisticRegression ##  Implementation of logistic regression algorithm for classification.\n",
        "from sklearn.multiclass import OneVsRestClassifier\n",
        "from sklearn.metrics import classification_report, confusion_matrix ## Functions to compute classification metrics and confusion matrix.\n",
        "import matplotlib.pyplot as plt ## Plotting library for creating static, animated, and interactive visualizations.\n",
        "import seaborn as sns ##  Statistical data visualization library built on top of matplotlib, used for creating attractive and informative statistical graphics."
      ],
      "metadata": {
        "id": "0s1WgmWOc7xm"
      },
      "execution_count": 27,
      "outputs": []
    },
    {
      "cell_type": "markdown",
      "source": [
        "At first we load the dataset :"
      ],
      "metadata": {
        "id": "-TfhdMvEXPTp"
      }
    },
    {
      "cell_type": "code",
      "source": [
        "import pandas as pd\n",
        "df = pd.read_csv('label_feature_IOT.csv')"
      ],
      "metadata": {
        "id": "kx1sP2jdTPn8"
      },
      "execution_count": 17,
      "outputs": []
    },
    {
      "cell_type": "markdown",
      "source": [
        "Now we process  the data :"
      ],
      "metadata": {
        "id": "5Iv-WvKiXYla"
      }
    },
    {
      "cell_type": "code",
      "source": [
        "data = df\n",
        "\n",
        "# Function to convert hexadecimal to decimal\n",
        "def hex_to_decimal(hex_string):\n",
        "    return int(hex_string, 16)\n",
        "\n",
        "# Preprocess the data\n",
        "data['IPFlags'] = data['IPFlags'].apply(hex_to_decimal)\n",
        "data['IPID'] = data['IPID'].apply(hex_to_decimal)\n",
        "data['IPchecksum'] = data['IPchecksum'].apply(hex_to_decimal)\n",
        "data['TCPflags'] = data['TCPflags'].apply(hex_to_decimal)\n",
        "data['TCPChecksum'] = data['TCPChecksum'].apply(hex_to_decimal)"
      ],
      "metadata": {
        "id": "MSM91vvtdIDz"
      },
      "execution_count": 29,
      "outputs": []
    },
    {
      "cell_type": "code",
      "source": [
        "# Step 2: Data Preprocessing\n",
        "# Label Encoding\n",
        "from sklearn.preprocessing import LabelEncoder\n",
        "le = LabelEncoder()\n",
        "df['Label'] = le.fit_transform(df['Label'])"
      ],
      "metadata": {
        "id": "lXzflPnEXXmZ"
      },
      "execution_count": 33,
      "outputs": []
    },
    {
      "cell_type": "markdown",
      "source": [
        "We split than the data between Features and Labels"
      ],
      "metadata": {
        "id": "RMy_XKO4ZRAL"
      }
    },
    {
      "cell_type": "code",
      "source": [
        "# Step 4: Split the data into features (X) and labels (y)\n",
        "X = df.drop('Label', axis=1)  # Features\n",
        "y = df['Label']               # Labels"
      ],
      "metadata": {
        "id": "0WEM2rGfYcd6"
      },
      "execution_count": 34,
      "outputs": []
    },
    {
      "cell_type": "markdown",
      "source": [
        "And than we split the dataset into a training set and a testing set. Typically, 70-\n",
        "80% of the data is used for training, and 20-30% is used for testing."
      ],
      "metadata": {
        "id": "LbWHucTkhXu_"
      }
    },
    {
      "cell_type": "code",
      "source": [
        "# Step 5: Train-Test Split (using 70% train, 30% test split)\n",
        "from sklearn.model_selection import train_test_split\n",
        "X_train, X_test, y_train, y_test = train_test_split(X, y, test_size=0.3, random_state=42)"
      ],
      "metadata": {
        "id": "CEd6QbHEen9k"
      },
      "execution_count": 35,
      "outputs": []
    },
    {
      "cell_type": "markdown",
      "source": [
        "After that , we scale the features to ensure that they have similar magnitudes,\n",
        "which is important for algorithms like KNN."
      ],
      "metadata": {
        "id": "5rvqFDI5hcm0"
      }
    },
    {
      "cell_type": "code",
      "source": [
        "# Step 6: Feature Scaling (only for numeric columns)\n",
        "from sklearn.preprocessing import StandardScaler\n",
        "scaler = StandardScaler()\n",
        "X_train = scaler.fit_transform(X_train)  # Scale the training data\n",
        "X_test = scaler.transform(X_test)        # Scale the testing data"
      ],
      "metadata": {
        "id": "2nfZRWxoep7a"
      },
      "execution_count": 36,
      "outputs": []
    },
    {
      "cell_type": "markdown",
      "source": [
        "We use the training data to train a Logistic Regression model"
      ],
      "metadata": {
        "id": "HAZRChMYhjwx"
      }
    },
    {
      "cell_type": "code",
      "source": [
        "# Step 7: Logistic Regression Model\n",
        "from sklearn.linear_model import LogisticRegression\n",
        "lr_model = LogisticRegression(random_state=42)\n",
        "lr_model.fit(X_train, y_train)"
      ],
      "metadata": {
        "id": "NBF7_877esUd"
      },
      "execution_count": null,
      "outputs": []
    },
    {
      "cell_type": "markdown",
      "source": [
        "After that, we use the trained model to make predictions on the test data"
      ],
      "metadata": {
        "id": "lnpSwni4hpI6"
      }
    },
    {
      "cell_type": "code",
      "source": [
        "# Make predictions using the Logistic Regression model\n",
        "y_pred_lr = lr_model.predict(X_test)"
      ],
      "metadata": {
        "id": "6b4Xb1ZZeug0"
      },
      "execution_count": 38,
      "outputs": []
    },
    {
      "cell_type": "code",
      "source": [
        "# Step 8: K-Nearest Neighbors Model\n",
        "from sklearn.neighbors import KNeighborsClassifier\n",
        "knn_model = KNeighborsClassifier(n_neighbors=5)\n",
        "knn_model.fit(X_train, y_train)"
      ],
      "metadata": {
        "colab": {
          "base_uri": "https://localhost:8080/",
          "height": 75
        },
        "id": "c1k9TE8dezh6",
        "outputId": "6f7cd6ad-2d02-4d75-eca7-b9f0099032b9"
      },
      "execution_count": 39,
      "outputs": [
        {
          "output_type": "execute_result",
          "data": {
            "text/plain": [
              "KNeighborsClassifier()"
            ],
            "text/html": [
              "<style>#sk-container-id-2 {color: black;}#sk-container-id-2 pre{padding: 0;}#sk-container-id-2 div.sk-toggleable {background-color: white;}#sk-container-id-2 label.sk-toggleable__label {cursor: pointer;display: block;width: 100%;margin-bottom: 0;padding: 0.3em;box-sizing: border-box;text-align: center;}#sk-container-id-2 label.sk-toggleable__label-arrow:before {content: \"▸\";float: left;margin-right: 0.25em;color: #696969;}#sk-container-id-2 label.sk-toggleable__label-arrow:hover:before {color: black;}#sk-container-id-2 div.sk-estimator:hover label.sk-toggleable__label-arrow:before {color: black;}#sk-container-id-2 div.sk-toggleable__content {max-height: 0;max-width: 0;overflow: hidden;text-align: left;background-color: #f0f8ff;}#sk-container-id-2 div.sk-toggleable__content pre {margin: 0.2em;color: black;border-radius: 0.25em;background-color: #f0f8ff;}#sk-container-id-2 input.sk-toggleable__control:checked~div.sk-toggleable__content {max-height: 200px;max-width: 100%;overflow: auto;}#sk-container-id-2 input.sk-toggleable__control:checked~label.sk-toggleable__label-arrow:before {content: \"▾\";}#sk-container-id-2 div.sk-estimator input.sk-toggleable__control:checked~label.sk-toggleable__label {background-color: #d4ebff;}#sk-container-id-2 div.sk-label input.sk-toggleable__control:checked~label.sk-toggleable__label {background-color: #d4ebff;}#sk-container-id-2 input.sk-hidden--visually {border: 0;clip: rect(1px 1px 1px 1px);clip: rect(1px, 1px, 1px, 1px);height: 1px;margin: -1px;overflow: hidden;padding: 0;position: absolute;width: 1px;}#sk-container-id-2 div.sk-estimator {font-family: monospace;background-color: #f0f8ff;border: 1px dotted black;border-radius: 0.25em;box-sizing: border-box;margin-bottom: 0.5em;}#sk-container-id-2 div.sk-estimator:hover {background-color: #d4ebff;}#sk-container-id-2 div.sk-parallel-item::after {content: \"\";width: 100%;border-bottom: 1px solid gray;flex-grow: 1;}#sk-container-id-2 div.sk-label:hover label.sk-toggleable__label {background-color: #d4ebff;}#sk-container-id-2 div.sk-serial::before {content: \"\";position: absolute;border-left: 1px solid gray;box-sizing: border-box;top: 0;bottom: 0;left: 50%;z-index: 0;}#sk-container-id-2 div.sk-serial {display: flex;flex-direction: column;align-items: center;background-color: white;padding-right: 0.2em;padding-left: 0.2em;position: relative;}#sk-container-id-2 div.sk-item {position: relative;z-index: 1;}#sk-container-id-2 div.sk-parallel {display: flex;align-items: stretch;justify-content: center;background-color: white;position: relative;}#sk-container-id-2 div.sk-item::before, #sk-container-id-2 div.sk-parallel-item::before {content: \"\";position: absolute;border-left: 1px solid gray;box-sizing: border-box;top: 0;bottom: 0;left: 50%;z-index: -1;}#sk-container-id-2 div.sk-parallel-item {display: flex;flex-direction: column;z-index: 1;position: relative;background-color: white;}#sk-container-id-2 div.sk-parallel-item:first-child::after {align-self: flex-end;width: 50%;}#sk-container-id-2 div.sk-parallel-item:last-child::after {align-self: flex-start;width: 50%;}#sk-container-id-2 div.sk-parallel-item:only-child::after {width: 0;}#sk-container-id-2 div.sk-dashed-wrapped {border: 1px dashed gray;margin: 0 0.4em 0.5em 0.4em;box-sizing: border-box;padding-bottom: 0.4em;background-color: white;}#sk-container-id-2 div.sk-label label {font-family: monospace;font-weight: bold;display: inline-block;line-height: 1.2em;}#sk-container-id-2 div.sk-label-container {text-align: center;}#sk-container-id-2 div.sk-container {/* jupyter's `normalize.less` sets `[hidden] { display: none; }` but bootstrap.min.css set `[hidden] { display: none !important; }` so we also need the `!important` here to be able to override the default hidden behavior on the sphinx rendered scikit-learn.org. See: https://github.com/scikit-learn/scikit-learn/issues/21755 */display: inline-block !important;position: relative;}#sk-container-id-2 div.sk-text-repr-fallback {display: none;}</style><div id=\"sk-container-id-2\" class=\"sk-top-container\"><div class=\"sk-text-repr-fallback\"><pre>KNeighborsClassifier()</pre><b>In a Jupyter environment, please rerun this cell to show the HTML representation or trust the notebook. <br />On GitHub, the HTML representation is unable to render, please try loading this page with nbviewer.org.</b></div><div class=\"sk-container\" hidden><div class=\"sk-item\"><div class=\"sk-estimator sk-toggleable\"><input class=\"sk-toggleable__control sk-hidden--visually\" id=\"sk-estimator-id-2\" type=\"checkbox\" checked><label for=\"sk-estimator-id-2\" class=\"sk-toggleable__label sk-toggleable__label-arrow\">KNeighborsClassifier</label><div class=\"sk-toggleable__content\"><pre>KNeighborsClassifier()</pre></div></div></div></div></div>"
            ]
          },
          "metadata": {},
          "execution_count": 39
        }
      ]
    },
    {
      "cell_type": "markdown",
      "source": [
        "Now we use the training data to train a K-Nearest Neighbors classifier"
      ],
      "metadata": {
        "id": "8CFNSLywhKIg"
      }
    },
    {
      "cell_type": "code",
      "source": [
        "# Make predictions using the KNN model\n",
        "y_pred_knn = knn_model.predict(X_test)"
      ],
      "metadata": {
        "id": "Xo-3M3Phe1Gd"
      },
      "execution_count": 40,
      "outputs": []
    },
    {
      "cell_type": "markdown",
      "source": [
        "And now we do the evaluations :"
      ],
      "metadata": {
        "id": "HTl1l4lYin77"
      }
    },
    {
      "cell_type": "code",
      "source": [
        "# Step 9: Evaluate the Models\n",
        "from sklearn.metrics import classification_report, confusion_matrix\n",
        "\n",
        "# Ensure target_names contains strings\n",
        "# If the original labels were strings like 'Assistant', 'Camera', etc., you can pass them directly\n",
        "class_labels = ['Assistant', 'Camera', 'Miscellaneous', 'Mobile', 'Outlet']  # Adjust according to your dataset\n",
        "\n",
        "# Logistic Regression evaluation\n",
        "lr_report = classification_report(y_test, y_pred_lr, target_names=class_labels)\n",
        "lr_confusion = confusion_matrix(y_test, y_pred_lr)\n",
        "lr_accuracy = lr_model.score(X_test, y_test)\n",
        "\n",
        "# KNN evaluation\n",
        "knn_report = classification_report(y_test, y_pred_knn, target_names=class_labels)\n",
        "knn_confusion = confusion_matrix(y_test, y_pred_knn)\n",
        "knn_accuracy = knn_model.score(X_test, y_test)"
      ],
      "metadata": {
        "id": "5k4ABHn3e3pi"
      },
      "execution_count": 46,
      "outputs": []
    },
    {
      "cell_type": "markdown",
      "source": [
        "Accuracy Comparison :"
      ],
      "metadata": {
        "id": "ZBhvdGjkiyZn"
      }
    },
    {
      "cell_type": "code",
      "source": [
        "# Output classification reports and accuracy\n",
        "print(\"Logistic Regression Classification Report:\")\n",
        "print(lr_report)\n",
        "print(f\"Logistic Regression Accuracy: {lr_accuracy:.2f}\")\n",
        "\n",
        "print(\"\\nK-Nearest Neighbors Classification Report:\")\n",
        "print(knn_report)\n",
        "print(f\"K-Nearest Neighbors Accuracy: {knn_accuracy:.2f}\")"
      ],
      "metadata": {
        "colab": {
          "base_uri": "https://localhost:8080/"
        },
        "id": "OiDfraO1e6DI",
        "outputId": "03822232-5b90-4b29-ccb3-494c7ed5af84"
      },
      "execution_count": 47,
      "outputs": [
        {
          "output_type": "stream",
          "name": "stdout",
          "text": [
            "Logistic Regression Classification Report:\n",
            "               precision    recall  f1-score   support\n",
            "\n",
            "    Assistant       0.91      0.95      0.93       666\n",
            "       Camera       0.99      1.00      0.99      2413\n",
            "Miscellaneous       0.99      0.83      0.90       283\n",
            "       Mobile       0.76      0.81      0.78        58\n",
            "       Outlet       1.00      1.00      1.00       522\n",
            "\n",
            "     accuracy                           0.97      3942\n",
            "    macro avg       0.93      0.92      0.92      3942\n",
            " weighted avg       0.98      0.97      0.97      3942\n",
            "\n",
            "Logistic Regression Accuracy: 0.97\n",
            "\n",
            "K-Nearest Neighbors Classification Report:\n",
            "               precision    recall  f1-score   support\n",
            "\n",
            "    Assistant       0.97      0.99      0.98       666\n",
            "       Camera       1.00      1.00      1.00      2413\n",
            "Miscellaneous       1.00      0.99      0.99       283\n",
            "       Mobile       0.89      0.72      0.80        58\n",
            "       Outlet       1.00      1.00      1.00       522\n",
            "\n",
            "     accuracy                           0.99      3942\n",
            "    macro avg       0.97      0.94      0.95      3942\n",
            " weighted avg       0.99      0.99      0.99      3942\n",
            "\n",
            "K-Nearest Neighbors Accuracy: 0.99\n"
          ]
        }
      ]
    },
    {
      "cell_type": "markdown",
      "source": [
        "Confusion Matrix Visualization:\n"
      ],
      "metadata": {
        "id": "88rkJpgxi4bK"
      }
    },
    {
      "cell_type": "code",
      "source": [
        "import matplotlib.pyplot as plt\n",
        "import seaborn as sns\n",
        "plt.figure(figsize=(14, 6))\n",
        "plt.subplot(1, 2, 1)\n",
        "sns.heatmap(confusion_matrix(y_test, y_pred_lr), annot=True, fmt='d', cmap='Blues')\n",
        "plt.title('Logistic Regression Confusion Matrix')\n",
        "plt.subplot(1, 2, 2)\n",
        "sns.heatmap(confusion_matrix(y_test, y_pred_knn), annot=True, fmt='d', \\\n",
        "cmap='Blues')\n",
        "plt.title('K-Nearest Neighbors Confusion Matrix')\n",
        "plt.show()"
      ],
      "metadata": {
        "colab": {
          "base_uri": "https://localhost:8080/",
          "height": 369
        },
        "id": "qzdoSNhTi1P2",
        "outputId": "366b18fb-18ce-4219-90fd-7bd2a1fb39b2"
      },
      "execution_count": 48,
      "outputs": [
        {
          "output_type": "display_data",
          "data": {
            "text/plain": [
              "<Figure size 1400x600 with 4 Axes>"
            ],
            "image/png": "[encoded data removed]"
          },
          "metadata": {}
        }
      ]
    }
  ]
}