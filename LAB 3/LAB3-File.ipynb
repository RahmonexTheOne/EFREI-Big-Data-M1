{
  "nbformat": 4,
  "nbformat_minor": 0,
  "metadata": {
    "colab": {
      "provenance": []
    },
    "kernelspec": {
      "name": "python3",
      "display_name": "Python 3"
    },
    "language_info": {
      "name": "python"
    }
  },
  "cells": [
    {
      "cell_type": "markdown",
      "source": [
        "# Lab 3: Classification with Logistic Regression, KNN, and MLP on NSL-KDD Dataset"
      ],
      "metadata": {
        "id": "Da5aG2n3vKMa"
      }
    },
    {
      "cell_type": "markdown",
      "source": [
        "By Bilel RAHMOUNI"
      ],
      "metadata": {
        "id": "AP7kEcU3DEd0"
      }
    },
    {
      "cell_type": "markdown",
      "source": [
        "## 1. Download and Load the NSL-KDD Dataset:\n"
      ],
      "metadata": {
        "id": "9CiybOUEvEbA"
      }
    },
    {
      "cell_type": "markdown",
      "source": [
        "Install Required Libraries:"
      ],
      "metadata": {
        "id": "UIHZmbYwC_xw"
      }
    },
    {
      "cell_type": "code",
      "execution_count": null,
      "metadata": {
        "id": "z0VnTh9evDo7"
      },
      "outputs": [],
      "source": [
        "!pip install pandas"
      ]
    },
    {
      "cell_type": "markdown",
      "source": [
        "Download the NSL-KDD Dataset:"
      ],
      "metadata": {
        "id": "aHyXbhDYDSX5"
      }
    },
    {
      "cell_type": "code",
      "source": [
        "# Download the dataset and unzip it\n",
        "!wget https://github.com/defcom17/NSL_KDD/blob/master/KDDTrain+.txt?raw=true -O KDDTrain+.txt\n",
        "!wget https://github.com/defcom17/NSL_KDD/blob/master/KDDTest+.txt?raw=true -O KDDTest+.txt\n"
      ],
      "metadata": {
        "id": "_Twww5-kDCqD"
      },
      "execution_count": null,
      "outputs": []
    },
    {
      "cell_type": "markdown",
      "source": [
        "Define Column Names:"
      ],
      "metadata": {
        "id": "ENGK_j-tDdLQ"
      }
    },
    {
      "cell_type": "code",
      "source": [
        "column_names = [\"duration\", \"protocol_type\", \"service\", \"flag\", \"src_bytes\", \"dst_bytes\",\n",
        "                \"land\", \"wrong_fragment\", \"urgent\", \"hot\", \"num_failed_logins\",\n",
        "                \"logged_in\", \"num_compromised\", \"root_shell\", \"su_attempted\", \"num_root\",\n",
        "                \"num_file_creations\", \"num_shells\", \"num_access_files\", \"num_outbound_cmds\",\n",
        "                \"is_host_login\", \"is_guest_login\", \"count\", \"srv_count\", \"serror_rate\",\n",
        "                \"srv_serror_rate\", \"rerror_rate\", \"srv_rerror_rate\", \"same_srv_rate\",\n",
        "                \"diff_srv_rate\", \"srv_diff_host_rate\", \"dst_host_count\", \"dst_host_srv_count\",\n",
        "                \"dst_host_same_srv_rate\", \"dst_host_diff_srv_rate\", \"dst_host_same_src_port_rate\",\n",
        "                \"dst_host_srv_diff_host_rate\", \"dst_host_serror_rate\", \"dst_host_srv_serror_rate\",\n",
        "                \"dst_host_rerror_rate\", \"dst_host_srv_rerror_rate\", \"label\", \"difficulty\"]"
      ],
      "metadata": {
        "id": "F9EcyQPzDWiu"
      },
      "execution_count": 8,
      "outputs": []
    },
    {
      "cell_type": "markdown",
      "source": [
        "Load the Data into a DataFrame:"
      ],
      "metadata": {
        "id": "FwxTWbh0DzQX"
      }
    },
    {
      "cell_type": "code",
      "source": [
        "import pandas as pd\n",
        "\n",
        "# Load the NSL-KDD training and testing datasets with the correct column names\n",
        "train_df = pd.read_csv('KDDTrain+.txt', header=None, names=column_names)\n",
        "test_df = pd.read_csv('KDDTest+.txt', header=None, names=column_names)\n",
        "\n",
        "# Check the first few rows to ensure data is loaded correctly\n",
        "train_df.head()\n",
        "test_df.head()"
      ],
      "metadata": {
        "colab": {
          "base_uri": "https://localhost:8080/",
          "height": 255
        },
        "id": "O0kSMaAFDfW-",
        "outputId": "94b48539-b09b-43eb-bb28-e0667191d46d"
      },
      "execution_count": 10,
      "outputs": [
        {
          "output_type": "execute_result",
          "data": {
            "text/plain": [
              "   duration protocol_type   service  flag  src_bytes  dst_bytes  land  \\\n",
              "0         0           tcp   private   REJ          0          0     0   \n",
              "1         0           tcp   private   REJ          0          0     0   \n",
              "2         2           tcp  ftp_data    SF      12983          0     0   \n",
              "3         0          icmp     eco_i    SF         20          0     0   \n",
              "4         1           tcp    telnet  RSTO          0         15     0   \n",
              "\n",
              "   wrong_fragment  urgent  hot  ...  dst_host_same_srv_rate  \\\n",
              "0               0       0    0  ...                    0.04   \n",
              "1               0       0    0  ...                    0.00   \n",
              "2               0       0    0  ...                    0.61   \n",
              "3               0       0    0  ...                    1.00   \n",
              "4               0       0    0  ...                    0.31   \n",
              "\n",
              "   dst_host_diff_srv_rate  dst_host_same_src_port_rate  \\\n",
              "0                    0.06                         0.00   \n",
              "1                    0.06                         0.00   \n",
              "2                    0.04                         0.61   \n",
              "3                    0.00                         1.00   \n",
              "4                    0.17                         0.03   \n",
              "\n",
              "   dst_host_srv_diff_host_rate  dst_host_serror_rate  \\\n",
              "0                         0.00                   0.0   \n",
              "1                         0.00                   0.0   \n",
              "2                         0.02                   0.0   \n",
              "3                         0.28                   0.0   \n",
              "4                         0.02                   0.0   \n",
              "\n",
              "   dst_host_srv_serror_rate  dst_host_rerror_rate  dst_host_srv_rerror_rate  \\\n",
              "0                       0.0                  1.00                      1.00   \n",
              "1                       0.0                  1.00                      1.00   \n",
              "2                       0.0                  0.00                      0.00   \n",
              "3                       0.0                  0.00                      0.00   \n",
              "4                       0.0                  0.83                      0.71   \n",
              "\n",
              "     label  difficulty  \n",
              "0  neptune          21  \n",
              "1  neptune          21  \n",
              "2   normal          21  \n",
              "3    saint          15  \n",
              "4    mscan          11  \n",
              "\n",
              "[5 rows x 43 columns]"
            ],
            "text/html": [
              "\n",
              "  <div id=\"df-5b1dbf37-d45b-4289-986a-84a4433551e3\" class=\"colab-df-container\">\n",
              "    <div>\n",
              "<style scoped>\n",
              "    .dataframe tbody tr th:only-of-type {\n",
              "        vertical-align: middle;\n",
              "    }\n",
              "\n",
              "    .dataframe tbody tr th {\n",
              "        vertical-align: top;\n",
              "    }\n",
              "\n",
              "    .dataframe thead th {\n",
              "        text-align: right;\n",
              "    }\n",
              "</style>\n",
              "<table border=\"1\" class=\"dataframe\">\n",
              "  <thead>\n",
              "    <tr style=\"text-align: right;\">\n",
              "      <th></th>\n",
              "      <th>duration</th>\n",
              "      <th>protocol_type</th>\n",
              "      <th>service</th>\n",
              "      <th>flag</th>\n",
              "      <th>src_bytes</th>\n",
              "      <th>dst_bytes</th>\n",
              "      <th>land</th>\n",
              "      <th>wrong_fragment</th>\n",
              "      <th>urgent</th>\n",
              "      <th>hot</th>\n",
              "      <th>...</th>\n",
              "      <th>dst_host_same_srv_rate</th>\n",
              "      <th>dst_host_diff_srv_rate</th>\n",
              "      <th>dst_host_same_src_port_rate</th>\n",
              "      <th>dst_host_srv_diff_host_rate</th>\n",
              "      <th>dst_host_serror_rate</th>\n",
              "      <th>dst_host_srv_serror_rate</th>\n",
              "      <th>dst_host_rerror_rate</th>\n",
              "      <th>dst_host_srv_rerror_rate</th>\n",
              "      <th>label</th>\n",
              "      <th>difficulty</th>\n",
              "    </tr>\n",
              "  </thead>\n",
              "  <tbody>\n",
              "    <tr>\n",
              "      <th>0</th>\n",
              "      <td>0</td>\n",
              "      <td>tcp</td>\n",
              "      <td>private</td>\n",
              "      <td>REJ</td>\n",
              "      <td>0</td>\n",
              "      <td>0</td>\n",
              "      <td>0</td>\n",
              "      <td>0</td>\n",
              "      <td>0</td>\n",
              "      <td>0</td>\n",
              "      <td>...</td>\n",
              "      <td>0.04</td>\n",
              "      <td>0.06</td>\n",
              "      <td>0.00</td>\n",
              "      <td>0.00</td>\n",
              "      <td>0.0</td>\n",
              "      <td>0.0</td>\n",
              "      <td>1.00</td>\n",
              "      <td>1.00</td>\n",
              "      <td>neptune</td>\n",
              "      <td>21</td>\n",
              "    </tr>\n",
              "    <tr>\n",
              "      <th>1</th>\n",
              "      <td>0</td>\n",
              "      <td>tcp</td>\n",
              "      <td>private</td>\n",
              "      <td>REJ</td>\n",
              "      <td>0</td>\n",
              "      <td>0</td>\n",
              "      <td>0</td>\n",
              "      <td>0</td>\n",
              "      <td>0</td>\n",
              "      <td>0</td>\n",
              "      <td>...</td>\n",
              "      <td>0.00</td>\n",
              "      <td>0.06</td>\n",
              "      <td>0.00</td>\n",
              "      <td>0.00</td>\n",
              "      <td>0.0</td>\n",
              "      <td>0.0</td>\n",
              "      <td>1.00</td>\n",
              "      <td>1.00</td>\n",
              "      <td>neptune</td>\n",
              "      <td>21</td>\n",
              "    </tr>\n",
              "    <tr>\n",
              "      <th>2</th>\n",
              "      <td>2</td>\n",
              "      <td>tcp</td>\n",
              "      <td>ftp_data</td>\n",
              "      <td>SF</td>\n",
              "      <td>12983</td>\n",
              "      <td>0</td>\n",
              "      <td>0</td>\n",
              "      <td>0</td>\n",
              "      <td>0</td>\n",
              "      <td>0</td>\n",
              "      <td>...</td>\n",
              "      <td>0.61</td>\n",
              "      <td>0.04</td>\n",
              "      <td>0.61</td>\n",
              "      <td>0.02</td>\n",
              "      <td>0.0</td>\n",
              "      <td>0.0</td>\n",
              "      <td>0.00</td>\n",
              "      <td>0.00</td>\n",
              "      <td>normal</td>\n",
              "      <td>21</td>\n",
              "    </tr>\n",
              "    <tr>\n",
              "      <th>3</th>\n",
              "      <td>0</td>\n",
              "      <td>icmp</td>\n",
              "      <td>eco_i</td>\n",
              "      <td>SF</td>\n",
              "      <td>20</td>\n",
              "      <td>0</td>\n",
              "      <td>0</td>\n",
              "      <td>0</td>\n",
              "      <td>0</td>\n",
              "      <td>0</td>\n",
              "      <td>...</td>\n",
              "      <td>1.00</td>\n",
              "      <td>0.00</td>\n",
              "      <td>1.00</td>\n",
              "      <td>0.28</td>\n",
              "      <td>0.0</td>\n",
              "      <td>0.0</td>\n",
              "      <td>0.00</td>\n",
              "      <td>0.00</td>\n",
              "      <td>saint</td>\n",
              "      <td>15</td>\n",
              "    </tr>\n",
              "    <tr>\n",
              "      <th>4</th>\n",
              "      <td>1</td>\n",
              "      <td>tcp</td>\n",
              "      <td>telnet</td>\n",
              "      <td>RSTO</td>\n",
              "      <td>0</td>\n",
              "      <td>15</td>\n",
              "      <td>0</td>\n",
              "      <td>0</td>\n",
              "      <td>0</td>\n",
              "      <td>0</td>\n",
              "      <td>...</td>\n",
              "      <td>0.31</td>\n",
              "      <td>0.17</td>\n",
              "      <td>0.03</td>\n",
              "      <td>0.02</td>\n",
              "      <td>0.0</td>\n",
              "      <td>0.0</td>\n",
              "      <td>0.83</td>\n",
              "      <td>0.71</td>\n",
              "      <td>mscan</td>\n",
              "      <td>11</td>\n",
              "    </tr>\n",
              "  </tbody>\n",
              "</table>\n",
              "<p>5 rows × 43 columns</p>\n",
              "</div>\n",
              "    <div class=\"colab-df-buttons\">\n",
              "\n",
              "  <div class=\"colab-df-container\">\n",
              "    <button class=\"colab-df-convert\" onclick=\"convertToInteractive('df-5b1dbf37-d45b-4289-986a-84a4433551e3')\"\n",
              "            title=\"Convert this dataframe to an interactive table.\"\n",
              "            style=\"display:none;\">\n",
              "\n",
              "  <svg xmlns=\"http://www.w3.org/2000/svg\" height=\"24px\" viewBox=\"0 -960 960 960\">\n",
              "    <path d=\"M120-120v-720h720v720H120Zm60-500h600v-160H180v160Zm220 220h160v-160H400v160Zm0 220h160v-160H400v160ZM180-400h160v-160H180v160Zm440 0h160v-160H620v160ZM180-180h160v-160H180v160Zm440 0h160v-160H620v160Z\"/>\n",
              "  </svg>\n",
              "    </button>\n",
              "\n",
              "  <style>\n",
              "    .colab-df-container {\n",
              "      display:flex;\n",
              "      gap: 12px;\n",
              "    }\n",
              "\n",
              "    .colab-df-convert {\n",
              "      background-color: #E8F0FE;\n",
              "      border: none;\n",
              "      border-radius: 50%;\n",
              "      cursor: pointer;\n",
              "      display: none;\n",
              "      fill: #1967D2;\n",
              "      height: 32px;\n",
              "      padding: 0 0 0 0;\n",
              "      width: 32px;\n",
              "    }\n",
              "\n",
              "    .colab-df-convert:hover {\n",
              "      background-color: #E2EBFA;\n",
              "      box-shadow: 0px 1px 2px rgba(60, 64, 67, 0.3), 0px 1px 3px 1px rgba(60, 64, 67, 0.15);\n",
              "      fill: #174EA6;\n",
              "    }\n",
              "\n",
              "    .colab-df-buttons div {\n",
              "      margin-bottom: 4px;\n",
              "    }\n",
              "\n",
              "    [theme=dark] .colab-df-convert {\n",
              "      background-color: #3B4455;\n",
              "      fill: #D2E3FC;\n",
              "    }\n",
              "\n",
              "    [theme=dark] .colab-df-convert:hover {\n",
              "      background-color: #434B5C;\n",
              "      box-shadow: 0px 1px 3px 1px rgba(0, 0, 0, 0.15);\n",
              "      filter: drop-shadow(0px 1px 2px rgba(0, 0, 0, 0.3));\n",
              "      fill: #FFFFFF;\n",
              "    }\n",
              "  </style>\n",
              "\n",
              "    <script>\n",
              "      const buttonEl =\n",
              "        document.querySelector('#df-5b1dbf37-d45b-4289-986a-84a4433551e3 button.colab-df-convert');\n",
              "      buttonEl.style.display =\n",
              "        google.colab.kernel.accessAllowed ? 'block' : 'none';\n",
              "\n",
              "      async function convertToInteractive(key) {\n",
              "        const element = document.querySelector('#df-5b1dbf37-d45b-4289-986a-84a4433551e3');\n",
              "        const dataTable =\n",
              "          await google.colab.kernel.invokeFunction('convertToInteractive',\n",
              "                                                    [key], {});\n",
              "        if (!dataTable) return;\n",
              "\n",
              "        const docLinkHtml = 'Like what you see? Visit the ' +\n",
              "          '<a target=\"_blank\" href=https://colab.research.google.com/notebooks/data_table.ipynb>data table notebook</a>'\n",
              "          + ' to learn more about interactive tables.';\n",
              "        element.innerHTML = '';\n",
              "        dataTable['output_type'] = 'display_data';\n",
              "        await google.colab.output.renderOutput(dataTable, element);\n",
              "        const docLink = document.createElement('div');\n",
              "        docLink.innerHTML = docLinkHtml;\n",
              "        element.appendChild(docLink);\n",
              "      }\n",
              "    </script>\n",
              "  </div>\n",
              "\n",
              "\n",
              "<div id=\"df-2b812c0f-9261-49b6-a53a-f6e9dcff0ad3\">\n",
              "  <button class=\"colab-df-quickchart\" onclick=\"quickchart('df-2b812c0f-9261-49b6-a53a-f6e9dcff0ad3')\"\n",
              "            title=\"Suggest charts\"\n",
              "            style=\"display:none;\">\n",
              "\n",
              "<svg xmlns=\"http://www.w3.org/2000/svg\" height=\"24px\"viewBox=\"0 0 24 24\"\n",
              "     width=\"24px\">\n",
              "    <g>\n",
              "        <path d=\"M19 3H5c-1.1 0-2 .9-2 2v14c0 1.1.9 2 2 2h14c1.1 0 2-.9 2-2V5c0-1.1-.9-2-2-2zM9 17H7v-7h2v7zm4 0h-2V7h2v10zm4 0h-2v-4h2v4z\"/>\n",
              "    </g>\n",
              "</svg>\n",
              "  </button>\n",
              "\n",
              "<style>\n",
              "  .colab-df-quickchart {\n",
              "      --bg-color: #E8F0FE;\n",
              "      --fill-color: #1967D2;\n",
              "      --hover-bg-color: #E2EBFA;\n",
              "      --hover-fill-color: #174EA6;\n",
              "      --disabled-fill-color: #AAA;\n",
              "      --disabled-bg-color: #DDD;\n",
              "  }\n",
              "\n",
              "  [theme=dark] .colab-df-quickchart {\n",
              "      --bg-color: #3B4455;\n",
              "      --fill-color: #D2E3FC;\n",
              "      --hover-bg-color: #434B5C;\n",
              "      --hover-fill-color: #FFFFFF;\n",
              "      --disabled-bg-color: #3B4455;\n",
              "      --disabled-fill-color: #666;\n",
              "  }\n",
              "\n",
              "  .colab-df-quickchart {\n",
              "    background-color: var(--bg-color);\n",
              "    border: none;\n",
              "    border-radius: 50%;\n",
              "    cursor: pointer;\n",
              "    display: none;\n",
              "    fill: var(--fill-color);\n",
              "    height: 32px;\n",
              "    padding: 0;\n",
              "    width: 32px;\n",
              "  }\n",
              "\n",
              "  .colab-df-quickchart:hover {\n",
              "    background-color: var(--hover-bg-color);\n",
              "    box-shadow: 0 1px 2px rgba(60, 64, 67, 0.3), 0 1px 3px 1px rgba(60, 64, 67, 0.15);\n",
              "    fill: var(--button-hover-fill-color);\n",
              "  }\n",
              "\n",
              "  .colab-df-quickchart-complete:disabled,\n",
              "  .colab-df-quickchart-complete:disabled:hover {\n",
              "    background-color: var(--disabled-bg-color);\n",
              "    fill: var(--disabled-fill-color);\n",
              "    box-shadow: none;\n",
              "  }\n",
              "\n",
              "  .colab-df-spinner {\n",
              "    border: 2px solid var(--fill-color);\n",
              "    border-color: transparent;\n",
              "    border-bottom-color: var(--fill-color);\n",
              "    animation:\n",
              "      spin 1s steps(1) infinite;\n",
              "  }\n",
              "\n",
              "  @keyframes spin {\n",
              "    0% {\n",
              "      border-color: transparent;\n",
              "      border-bottom-color: var(--fill-color);\n",
              "      border-left-color: var(--fill-color);\n",
              "    }\n",
              "    20% {\n",
              "      border-color: transparent;\n",
              "      border-left-color: var(--fill-color);\n",
              "      border-top-color: var(--fill-color);\n",
              "    }\n",
              "    30% {\n",
              "      border-color: transparent;\n",
              "      border-left-color: var(--fill-color);\n",
              "      border-top-color: var(--fill-color);\n",
              "      border-right-color: var(--fill-color);\n",
              "    }\n",
              "    40% {\n",
              "      border-color: transparent;\n",
              "      border-right-color: var(--fill-color);\n",
              "      border-top-color: var(--fill-color);\n",
              "    }\n",
              "    60% {\n",
              "      border-color: transparent;\n",
              "      border-right-color: var(--fill-color);\n",
              "    }\n",
              "    80% {\n",
              "      border-color: transparent;\n",
              "      border-right-color: var(--fill-color);\n",
              "      border-bottom-color: var(--fill-color);\n",
              "    }\n",
              "    90% {\n",
              "      border-color: transparent;\n",
              "      border-bottom-color: var(--fill-color);\n",
              "    }\n",
              "  }\n",
              "</style>\n",
              "\n",
              "  <script>\n",
              "    async function quickchart(key) {\n",
              "      const quickchartButtonEl =\n",
              "        document.querySelector('#' + key + ' button');\n",
              "      quickchartButtonEl.disabled = true;  // To prevent multiple clicks.\n",
              "      quickchartButtonEl.classList.add('colab-df-spinner');\n",
              "      try {\n",
              "        const charts = await google.colab.kernel.invokeFunction(\n",
              "            'suggestCharts', [key], {});\n",
              "      } catch (error) {\n",
              "        console.error('Error during call to suggestCharts:', error);\n",
              "      }\n",
              "      quickchartButtonEl.classList.remove('colab-df-spinner');\n",
              "      quickchartButtonEl.classList.add('colab-df-quickchart-complete');\n",
              "    }\n",
              "    (() => {\n",
              "      let quickchartButtonEl =\n",
              "        document.querySelector('#df-2b812c0f-9261-49b6-a53a-f6e9dcff0ad3 button');\n",
              "      quickchartButtonEl.style.display =\n",
              "        google.colab.kernel.accessAllowed ? 'block' : 'none';\n",
              "    })();\n",
              "  </script>\n",
              "</div>\n",
              "\n",
              "    </div>\n",
              "  </div>\n"
            ],
            "application/vnd.google.colaboratory.intrinsic+json": {
              "type": "dataframe",
              "variable_name": "test_df"
            }
          },
          "metadata": {},
          "execution_count": 10
        }
      ]
    },
    {
      "cell_type": "markdown",
      "source": [
        "### NSL-KDD Dataset Presentation\n",
        "\n",
        "**Objective:**\n",
        "The NSL-KDD dataset is an improved version of the original KDD Cup 1999 dataset, which was used for the competition on network intrusion detection systems (NIDS). The primary objective of this dataset is to detect various types of network intrusions and differentiate between normal and malicious activities.\n",
        "\n",
        "The dataset is labeled with normal and attack types, including categories such as DOS (Denial of Service), R2L (Remote to Local), U2R (User to Root), and Probe attacks. It addresses some of the inherent issues in the original dataset, such as redundant records, which improves the evaluation of intrusion detection systems.\n",
        "\n",
        "The dataset consists of 43 features, including network traffic attributes like duration, protocol type, service, and connection status flags. Each instance is labeled either as normal or as one of the several types of attacks.\n",
        "\n",
        "**Main Features:**\n",
        "- **duration**: Length of the connection in seconds.\n",
        "- **protocol_type**: The type of protocol (e.g., TCP, UDP, ICMP).\n",
        "- **service**: The service on the destination (e.g., HTTP, FTP, etc.).\n",
        "- **src_bytes**: Number of data bytes from source to destination.\n",
        "- **dst_bytes**: Number of data bytes from destination to source.\n",
        "- **label**: The class of the instance, indicating either normal or a specific type of attack.\n"
      ],
      "metadata": {
        "id": "dQTYbFKeEXNf"
      }
    },
    {
      "cell_type": "markdown",
      "source": [
        "##  Data Preprocessing"
      ],
      "metadata": {
        "id": "vTmjIIvebYup"
      }
    },
    {
      "cell_type": "markdown",
      "source": [
        "#### 1. Label Encoding:"
      ],
      "metadata": {
        "id": "5J5I2Kk-bgGZ"
      }
    },
    {
      "cell_type": "markdown",
      "source": [
        "We'll convert the class labels into binary values (e.g., 0 for normal and 1 for anomaly)."
      ],
      "metadata": {
        "id": "-E6oR8g6blX3"
      }
    },
    {
      "cell_type": "markdown",
      "source": [
        "First, we apply label encoding on the label column, for that we first inspect the unique labels in both datasets :"
      ],
      "metadata": {
        "id": "1_yUouQKbo0O"
      }
    },
    {
      "cell_type": "code",
      "source": [
        "# Check the unique labels in the training and testing sets\n",
        "train_labels = train_df['label'].unique()\n",
        "test_labels = test_df['label'].unique()\n",
        "\n",
        "# Print the unique labels in both datasets to compare\n",
        "print(\"Unique labels in training set:\", train_labels)\n",
        "print(\"Unique labels in test set:\", test_labels)\n",
        "\n",
        "# Check for any unseen labels in the test set\n",
        "unseen_labels = set(test_labels) - set(train_labels)\n",
        "print(\"Unseen labels in test set:\", unseen_labels)"
      ],
      "metadata": {
        "colab": {
          "base_uri": "https://localhost:8080/"
        },
        "id": "-wfbGa-RD18w",
        "outputId": "59f5c7d6-22e9-45ae-b3c4-1150ef26b2c8"
      },
      "execution_count": 11,
      "outputs": [
        {
          "output_type": "stream",
          "name": "stdout",
          "text": [
            "Unique labels in training set: ['normal' 'neptune' 'warezclient' 'ipsweep' 'portsweep' 'teardrop' 'nmap'\n",
            " 'satan' 'smurf' 'pod' 'back' 'guess_passwd' 'ftp_write' 'multihop'\n",
            " 'rootkit' 'buffer_overflow' 'imap' 'warezmaster' 'phf' 'land'\n",
            " 'loadmodule' 'spy' 'perl']\n",
            "Unique labels in test set: ['neptune' 'normal' 'saint' 'mscan' 'guess_passwd' 'smurf' 'apache2'\n",
            " 'satan' 'buffer_overflow' 'back' 'warezmaster' 'snmpgetattack'\n",
            " 'processtable' 'pod' 'httptunnel' 'nmap' 'ps' 'snmpguess' 'ipsweep'\n",
            " 'mailbomb' 'portsweep' 'multihop' 'named' 'sendmail' 'loadmodule' 'xterm'\n",
            " 'worm' 'teardrop' 'rootkit' 'xlock' 'perl' 'land' 'xsnoop' 'sqlattack'\n",
            " 'ftp_write' 'imap' 'udpstorm' 'phf']\n",
            "Unseen labels in test set: {'xterm', 'named', 'xlock', 'xsnoop', 'udpstorm', 'saint', 'apache2', 'processtable', 'ps', 'sendmail', 'httptunnel', 'mailbomb', 'sqlattack', 'mscan', 'snmpgetattack', 'worm', 'snmpguess'}\n"
          ]
        }
      ]
    },
    {
      "cell_type": "markdown",
      "source": [
        "At first, we convert Class Labels to Binary Values"
      ],
      "metadata": {
        "id": "2gFzK9tLezF-"
      }
    },
    {
      "cell_type": "code",
      "source": [
        "# Convert labels to binary: 0 for normal, 1 for anomaly\n",
        "train_df['label'] = train_df['label'].apply(lambda x: 0 if x == 'normal' else 1)\n",
        "test_df['label'] = test_df['label'].apply(lambda x: 0 if x == 'normal' else 1)\n",
        "\n",
        "# Verify the transformation\n",
        "print(train_df['label'].unique())  # Should output [0, 1]\n",
        "print(test_df['label'].unique())  # Should output [0, 1]"
      ],
      "metadata": {
        "colab": {
          "base_uri": "https://localhost:8080/"
        },
        "id": "oSyfoImBbr2z",
        "outputId": "0f8a9a02-6e13-4104-de95-7f47a41a9628"
      },
      "execution_count": 12,
      "outputs": [
        {
          "output_type": "stream",
          "name": "stdout",
          "text": [
            "[0 1]\n",
            "[1 0]\n"
          ]
        }
      ]
    },
    {
      "cell_type": "markdown",
      "source": [
        "#### 2. Feature Scaling\n",
        "Many machine learning models perform better when numerical features are scaled. We’ll use StandardScaler to standardize the feature columns.**bold text**"
      ],
      "metadata": {
        "id": "zeGrFjE4e-nw"
      }
    },
    {
      "cell_type": "markdown",
      "source": [
        "But we face categorical fetaures in the dataset such as 'protocol_type', 'service' and 'flag'; These features are string-based and need to be converted to numerical values before they can be scaled."
      ],
      "metadata": {
        "id": "Xyq7qFEVfeaT"
      }
    },
    {
      "cell_type": "markdown",
      "source": [
        "**One-Hot Encoding for the Categorical Variables**"
      ],
      "metadata": {
        "id": "02T_iS-Nf396"
      }
    },
    {
      "cell_type": "code",
      "source": [
        "# One-Hot Encode the categorical columns: 'protocol_type', 'service', 'flag'\n",
        "X_train = pd.get_dummies(X_train, columns=['protocol_type', 'service', 'flag'])\n",
        "X_test = pd.get_dummies(X_test, columns=['protocol_type', 'service', 'flag'])\n",
        "\n",
        "# Ensure both train and test sets have the same columns after encoding\n",
        "X_train, X_test = X_train.align(X_test, join='left', axis=1, fill_value=0)\n",
        "\n",
        "# Verify the shape after One-Hot Encoding\n",
        "print(X_train.shape)\n",
        "print(X_test.shape)"
      ],
      "metadata": {
        "colab": {
          "base_uri": "https://localhost:8080/"
        },
        "id": "n4mn0KKJe0ok",
        "outputId": "df8d5b19-0761-42c3-c63f-315420e9b0d9"
      },
      "execution_count": 14,
      "outputs": [
        {
          "output_type": "stream",
          "name": "stdout",
          "text": [
            "(125973, 123)\n",
            "(22544, 123)\n"
          ]
        }
      ]
    },
    {
      "cell_type": "markdown",
      "source": [
        "**Feature Scaling**"
      ],
      "metadata": {
        "id": "zBegCSBbgARW"
      }
    },
    {
      "cell_type": "code",
      "source": [
        "from sklearn.preprocessing import StandardScaler\n",
        "\n",
        "# Scale the features using StandardScaler\n",
        "scaler = StandardScaler()\n",
        "\n",
        "# Fit the scaler on the training data and transform both training and test data\n",
        "X_train_scaled = scaler.fit_transform(X_train)\n",
        "X_test_scaled = scaler.transform(X_test)\n",
        "\n",
        "# Display the first few scaled rows to ensure it worked\n",
        "print(pd.DataFrame(X_train_scaled).head())"
      ],
      "metadata": {
        "colab": {
          "base_uri": "https://localhost:8080/"
        },
        "id": "MHfGMC01fPpu",
        "outputId": "7764dbb9-3441-43a8-8160-967d5cfa689f"
      },
      "execution_count": 15,
      "outputs": [
        {
          "output_type": "stream",
          "name": "stdout",
          "text": [
            "        0         1         2         3         4         5         6    \\\n",
            "0 -0.110249 -0.007679 -0.004919 -0.014089 -0.089486 -0.007736 -0.095076   \n",
            "1 -0.110249 -0.007737 -0.004919 -0.014089 -0.089486 -0.007736 -0.095076   \n",
            "2 -0.110249 -0.007762 -0.004919 -0.014089 -0.089486 -0.007736 -0.095076   \n",
            "3 -0.110249 -0.007723 -0.002891 -0.014089 -0.089486 -0.007736 -0.095076   \n",
            "4 -0.110249 -0.007728 -0.004814 -0.014089 -0.089486 -0.007736 -0.095076   \n",
            "\n",
            "        7         8         9    ...       113      114       115       116  \\\n",
            "0 -0.027023 -0.809262 -0.011664  ... -0.312889 -0.11205 -0.028606 -0.139982   \n",
            "1 -0.027023 -0.809262 -0.011664  ... -0.312889 -0.11205 -0.028606 -0.139982   \n",
            "2 -0.027023 -0.809262 -0.011664  ... -0.312889 -0.11205 -0.028606 -0.139982   \n",
            "3 -0.027023  1.235694 -0.011664  ... -0.312889 -0.11205 -0.028606 -0.139982   \n",
            "4 -0.027023  1.235694 -0.011664  ... -0.312889 -0.11205 -0.028606 -0.139982   \n",
            "\n",
            "        117       118       119       120       121       122  \n",
            "0 -0.618438 -0.053906 -0.031767 -0.019726  0.825150 -0.046432  \n",
            "1 -0.618438 -0.053906 -0.031767 -0.019726  0.825150 -0.046432  \n",
            "2  1.616978 -0.053906 -0.031767 -0.019726 -1.211901 -0.046432  \n",
            "3 -0.618438 -0.053906 -0.031767 -0.019726  0.825150 -0.046432  \n",
            "4 -0.618438 -0.053906 -0.031767 -0.019726  0.825150 -0.046432  \n",
            "\n",
            "[5 rows x 123 columns]\n"
          ]
        }
      ]
    },
    {
      "cell_type": "markdown",
      "source": [
        "#### 3. Feature Selection"
      ],
      "metadata": {
        "id": "rLCLZn4nhe6y"
      }
    },
    {
      "cell_type": "markdown",
      "source": [
        "We can perform PCA to reduce the number of features while retaining most of the variance"
      ],
      "metadata": {
        "id": "D4QTebHth3dv"
      }
    },
    {
      "cell_type": "code",
      "source": [
        "from sklearn.decomposition import PCA\n",
        "\n",
        "# Perform PCA to retain 95% of the variance\n",
        "pca = PCA(n_components=0.95)\n",
        "\n",
        "# Apply PCA to both training and test datasets\n",
        "X_train_pca = pca.fit_transform(X_train_scaled)\n",
        "X_test_pca = pca.transform(X_test_scaled)\n",
        "\n",
        "# Print the new shape after PCA to see the reduced number of features\n",
        "print(f\"Reduced training set shape: {X_train_pca.shape}\")\n",
        "print(f\"Reduced testing set shape: {X_test_pca.shape}\")"
      ],
      "metadata": {
        "colab": {
          "base_uri": "https://localhost:8080/"
        },
        "id": "mwy_NgbRgGqX",
        "outputId": "06bcb696-bfa5-40f8-9367-d784d278ef7c"
      },
      "execution_count": 16,
      "outputs": [
        {
          "output_type": "stream",
          "name": "stdout",
          "text": [
            "Reduced training set shape: (125973, 90)\n",
            "Reduced testing set shape: (22544, 90)\n"
          ]
        }
      ]
    },
    {
      "cell_type": "markdown",
      "source": [
        "-> Training set reduced to 90 features"
      ],
      "metadata": {
        "id": "wD62aNZlidXG"
      }
    },
    {
      "cell_type": "markdown",
      "source": [
        "## Logistic Regression:"
      ],
      "metadata": {
        "id": "nXQO0nJSiOAW"
      }
    },
    {
      "cell_type": "markdown",
      "source": [
        "#### 1. Train the Logistic Regression Model on the Data"
      ],
      "metadata": {
        "id": "Roodb_OIixh-"
      }
    },
    {
      "cell_type": "code",
      "source": [
        "# Importing necessary libraries\n",
        "from sklearn.linear_model import LogisticRegression\n",
        "from sklearn.metrics import accuracy_score, confusion_matrix, classification_report\n",
        "\n",
        "# Initialize the Logistic Regression model\n",
        "logreg_model = LogisticRegression(random_state=42, max_iter=1000)\n",
        "\n",
        "# Train the model on the PCA-transformed training data\n",
        "logreg_model.fit(X_train_pca, y_train)\n",
        "\n",
        "# Model trained successfully\n",
        "print(\"Logistic Regression model trained successfully!\")"
      ],
      "metadata": {
        "colab": {
          "base_uri": "https://localhost:8080/"
        },
        "id": "GFzlvukmh7lx",
        "outputId": "9d919416-d758-4376-f3f8-a69b280c0847"
      },
      "execution_count": 20,
      "outputs": [
        {
          "output_type": "stream",
          "name": "stdout",
          "text": [
            "Logistic Regression model trained successfully!\n"
          ]
        }
      ]
    },
    {
      "cell_type": "markdown",
      "source": [
        "#### 2. Make Predictions and Evaluate the Model"
      ],
      "metadata": {
        "id": "OzU_sSutjJlS"
      }
    },
    {
      "cell_type": "markdown",
      "source": [
        "Once the model is trained, we will:\n",
        "\n",
        "*   Make predictions on the PCA-transformed test set\n",
        "*   Evaluate the performance of the model using accuracy, confusion matrix, and classification report (precision, recall, F1-score)"
      ],
      "metadata": {
        "id": "8zwd_YQ-jOQ-"
      }
    },
    {
      "cell_type": "code",
      "source": [
        "# Make predictions on the PCA-transformed test data\n",
        "y_pred = logreg_model.predict(X_test_pca)\n",
        "\n",
        "# Evaluate the model\n",
        "# Calculate accuracy\n",
        "accuracy = accuracy_score(y_test, y_pred)\n",
        "print(f\"Accuracy: {accuracy * 100:.2f}%\")\n",
        "\n",
        "# Confusion Matrix\n",
        "print(\"Confusion Matrix:\")\n",
        "print(confusion_matrix(y_test, y_pred))\n",
        "\n",
        "# Classification Report (Precision, Recall, F1-Score)\n",
        "print(\"Classification Report:\")\n",
        "print(classification_report(y_test, y_pred))"
      ],
      "metadata": {
        "colab": {
          "base_uri": "https://localhost:8080/"
        },
        "id": "9NL2iv6Ai1xw",
        "outputId": "cb3c9803-9f1d-4bed-bb64-ea38ac2682e9"
      },
      "execution_count": 19,
      "outputs": [
        {
          "output_type": "stream",
          "name": "stdout",
          "text": [
            "Accuracy: 84.62%\n",
            "Confusion Matrix:\n",
            "[[ 8909   802]\n",
            " [ 2666 10167]]\n",
            "Classification Report:\n",
            "              precision    recall  f1-score   support\n",
            "\n",
            "           0       0.77      0.92      0.84      9711\n",
            "           1       0.93      0.79      0.85     12833\n",
            "\n",
            "    accuracy                           0.85     22544\n",
            "   macro avg       0.85      0.85      0.85     22544\n",
            "weighted avg       0.86      0.85      0.85     22544\n",
            "\n"
          ]
        }
      ]
    },
    {
      "cell_type": "markdown",
      "source": [
        "\n",
        "\n",
        "* True Negatives (TN): 8909 - Normal instances predicted as normal.\n",
        "* False Positives (FP): 802 - Normal instances predicted as anomalies.\n",
        "* False Negatives (FN): 2666 - Anomalies predicted as normal.\n",
        "* True Positives (TP): 10167 - Anomalies predicted as anomalies.\n",
        "\n"
      ],
      "metadata": {
        "id": "VcYr53DZkOuv"
      }
    },
    {
      "cell_type": "markdown",
      "source": [
        "##### 2.1 Visualizing the Confusion Matrix"
      ],
      "metadata": {
        "id": "kw8B2ywQjw3f"
      }
    },
    {
      "cell_type": "code",
      "source": [
        "import matplotlib.pyplot as plt\n",
        "import seaborn as sns\n",
        "from sklearn.metrics import ConfusionMatrixDisplay\n",
        "\n",
        "# Visualize the Confusion Matrix\n",
        "ConfusionMatrixDisplay.from_estimator(logreg_model, X_test_pca, y_test, display_labels=[\"Normal\", \"Anomaly\"], cmap=plt.cm.Blues)\n",
        "plt.title('Confusion Matrix - Logistic Regression')\n",
        "plt.show()"
      ],
      "metadata": {
        "colab": {
          "base_uri": "https://localhost:8080/",
          "height": 472
        },
        "id": "fOqwpUgsjdtn",
        "outputId": "5e47b3da-3d6e-464d-8bb3-3365612be31f"
      },
      "execution_count": 21,
      "outputs": [
        {
          "output_type": "display_data",
          "data": {
            "text/plain": [
              "<Figure size 640x480 with 2 Axes>"
            ],
            "image/png": "[encoded data removed]"
          },
          "metadata": {}
        }
      ]
    },
    {
      "cell_type": "markdown",
      "source": [
        "## Train the K-Nearest Neighbors (KNN) Model"
      ],
      "metadata": {
        "id": "atEZHlKOk2HF"
      }
    },
    {
      "cell_type": "markdown",
      "source": [
        "#### 1. Training the KNN Model:"
      ],
      "metadata": {
        "id": "mVx0F1khlB4F"
      }
    },
    {
      "cell_type": "code",
      "source": [
        "# Import necessary libraries\n",
        "from sklearn.neighbors import KNeighborsClassifier\n",
        "from sklearn.metrics import accuracy_score, confusion_matrix, classification_report\n",
        "\n",
        "# Initialize the KNN model\n",
        "knn_model = KNeighborsClassifier(n_neighbors=5)  # You can change 'n_neighbors' to try different values\n",
        "\n",
        "# Train the KNN model on the PCA-transformed training data\n",
        "knn_model.fit(X_train_pca, y_train)\n",
        "\n",
        "# Model trained successfully\n",
        "print(\"K-Nearest Neighbors model trained successfully!\")"
      ],
      "metadata": {
        "colab": {
          "base_uri": "https://localhost:8080/"
        },
        "id": "Ka3IDkJxj1FP",
        "outputId": "7110b323-7d40-4fc1-85a9-1b9bfafbcc15"
      },
      "execution_count": 24,
      "outputs": [
        {
          "output_type": "stream",
          "name": "stdout",
          "text": [
            "K-Nearest Neighbors model trained successfully!\n"
          ]
        }
      ]
    },
    {
      "cell_type": "markdown",
      "source": [
        "#### 2. Make Predictions and Evaluate the Model"
      ],
      "metadata": {
        "id": "8dIa9C0ClN57"
      }
    },
    {
      "cell_type": "code",
      "source": [
        "# Make predictions on the PCA-transformed test data\n",
        "y_pred_knn = knn_model.predict(X_test_pca)\n",
        "\n",
        "# Evaluate the model\n",
        "# Calculate accuracy\n",
        "accuracy_knn = accuracy_score(y_test, y_pred_knn)\n",
        "print(f\"Accuracy: {accuracy_knn * 100:.2f}%\")\n",
        "\n",
        "# Confusion Matrix\n",
        "print(\"Confusion Matrix:\")\n",
        "print(confusion_matrix(y_test, y_pred_knn))\n",
        "\n",
        "# Classification Report (Precision, Recall, F1-Score)\n",
        "print(\"Classification Report:\")\n",
        "print(classification_report(y_test, y_pred_knn))"
      ],
      "metadata": {
        "colab": {
          "base_uri": "https://localhost:8080/"
        },
        "id": "V_3NmOlclHvu",
        "outputId": "bd61eeb4-bfdb-4f3f-b950-73792c6b06be"
      },
      "execution_count": 25,
      "outputs": [
        {
          "output_type": "stream",
          "name": "stdout",
          "text": [
            "Accuracy: 80.86%\n",
            "Confusion Matrix:\n",
            "[[9335  376]\n",
            " [3938 8895]]\n",
            "Classification Report:\n",
            "              precision    recall  f1-score   support\n",
            "\n",
            "           0       0.70      0.96      0.81      9711\n",
            "           1       0.96      0.69      0.80     12833\n",
            "\n",
            "    accuracy                           0.81     22544\n",
            "   macro avg       0.83      0.83      0.81     22544\n",
            "weighted avg       0.85      0.81      0.81     22544\n",
            "\n"
          ]
        }
      ]
    },
    {
      "cell_type": "markdown",
      "source": [
        "* True Negatives (TN): 9335 - Normal instances correctly classified as normal.\n",
        "* False Positives (FP): 376 - Normal instances incorrectly classified as anomalies.\n",
        "* False Negatives (FN): 3938 - Anomalies incorrectly classified as normal.\n",
        "* True Positives (TP): 8895 - Anomalies correctly classified as anomalies."
      ],
      "metadata": {
        "id": "_i8kM5wrmGdb"
      }
    },
    {
      "cell_type": "markdown",
      "source": [
        "#### 2.1. Visualizing the Confusion Matrix"
      ],
      "metadata": {
        "id": "iOolqU5slvez"
      }
    },
    {
      "cell_type": "code",
      "source": [
        "import matplotlib.pyplot as plt\n",
        "from sklearn.metrics import ConfusionMatrixDisplay\n",
        "\n",
        "# Visualize the Confusion Matrix\n",
        "ConfusionMatrixDisplay.from_estimator(knn_model, X_test_pca, y_test, display_labels=[\"Normal\", \"Anomaly\"], cmap=plt.cm.Blues)\n",
        "plt.title('Confusion Matrix - K-Nearest Neighbors')\n",
        "plt.show()"
      ],
      "metadata": {
        "colab": {
          "base_uri": "https://localhost:8080/",
          "height": 472
        },
        "id": "xzD4yBitlUwF",
        "outputId": "9856ecd5-6952-4fdf-89ea-6fd1cab26ac6"
      },
      "execution_count": 26,
      "outputs": [
        {
          "output_type": "display_data",
          "data": {
            "text/plain": [
              "<Figure size 640x480 with 2 Axes>"
            ],
            "image/png": "[encoded data removed]"
          },
          "metadata": {}
        }
      ]
    },
    {
      "cell_type": "markdown",
      "source": [
        "## Multi-Layer Perceptron (MLP)"
      ],
      "metadata": {
        "id": "57aecJ8xmW6_"
      }
    },
    {
      "cell_type": "markdown",
      "source": [
        "#### 1. Train the MLP Model:"
      ],
      "metadata": {
        "id": "i7D34xQCmZsw"
      }
    },
    {
      "cell_type": "code",
      "source": [
        "# Import necessary libraries\n",
        "from sklearn.neural_network import MLPClassifier\n",
        "from sklearn.metrics import accuracy_score, confusion_matrix, classification_report\n",
        "\n",
        "# Initialize the MLP model\n",
        "mlp_model = MLPClassifier(hidden_layer_sizes=(100,), max_iter=300, random_state=42)\n",
        "\n",
        "# Train the MLP model on the PCA-transformed training data\n",
        "mlp_model.fit(X_train_pca, y_train)\n",
        "\n",
        "# Model trained successfully\n",
        "print(\"Multi-Layer Perceptron model trained successfully!\")"
      ],
      "metadata": {
        "colab": {
          "base_uri": "https://localhost:8080/"
        },
        "id": "MK6i5vZml2Wu",
        "outputId": "cbde02a3-976a-467b-8510-c32f031e1c28"
      },
      "execution_count": 27,
      "outputs": [
        {
          "output_type": "stream",
          "name": "stdout",
          "text": [
            "Multi-Layer Perceptron model trained successfully!\n"
          ]
        }
      ]
    },
    {
      "cell_type": "markdown",
      "source": [
        "* hidden_layer_sizes=(100,): This creates one hidden layer with 100 neurons. We can try different sizes and numbers of layers.\n",
        "* max_iter=300: This sets the maximum number of iterations (epochs) to allow the model to converge.\n",
        "* random_state=42: Ensures reproducibility of the results."
      ],
      "metadata": {
        "id": "ZZgoPjHbm6LX"
      }
    },
    {
      "cell_type": "markdown",
      "source": [
        "#### 2. Make Predictions and Evaluate the Model"
      ],
      "metadata": {
        "id": "vJpbYr_0nC25"
      }
    },
    {
      "cell_type": "code",
      "source": [
        "# Make predictions on the PCA-transformed test data\n",
        "y_pred_mlp = mlp_model.predict(X_test_pca)\n",
        "\n",
        "# Evaluate the model\n",
        "# Calculate accuracy\n",
        "accuracy_mlp = accuracy_score(y_test, y_pred_mlp)\n",
        "print(f\"Accuracy: {accuracy_mlp * 100:.2f}%\")\n",
        "\n",
        "# Confusion Matrix\n",
        "print(\"Confusion Matrix:\")\n",
        "print(confusion_matrix(y_test, y_pred_mlp))\n",
        "\n",
        "# Classification Report (Precision, Recall, F1-Score)\n",
        "print(\"Classification Report:\")\n",
        "print(classification_report(y_test, y_pred_mlp))"
      ],
      "metadata": {
        "colab": {
          "base_uri": "https://localhost:8080/"
        },
        "id": "KMgAYn9Bmiip",
        "outputId": "611e5038-d360-4ee7-e6c7-5a144a39a3ec"
      },
      "execution_count": 28,
      "outputs": [
        {
          "output_type": "stream",
          "name": "stdout",
          "text": [
            "Accuracy: 84.76%\n",
            "Confusion Matrix:\n",
            "[[ 8971   740]\n",
            " [ 2696 10137]]\n",
            "Classification Report:\n",
            "              precision    recall  f1-score   support\n",
            "\n",
            "           0       0.77      0.92      0.84      9711\n",
            "           1       0.93      0.79      0.86     12833\n",
            "\n",
            "    accuracy                           0.85     22544\n",
            "   macro avg       0.85      0.86      0.85     22544\n",
            "weighted avg       0.86      0.85      0.85     22544\n",
            "\n"
          ]
        }
      ]
    },
    {
      "cell_type": "markdown",
      "source": [
        "* True Negatives (TN): 8971 – Normal instances correctly classified as normal.\n",
        "* False Positives (FP): 740 – Normal instances incorrectly classified as anomalies.\n",
        "* False Negatives (FN): 2696 – Anomalies incorrectly classified as normal.\n",
        "* True Positives (TP): 10137 – Anomalies correctly classified as anomalies."
      ],
      "metadata": {
        "id": "JS0weuzZnkDb"
      }
    },
    {
      "cell_type": "markdown",
      "source": [
        "#### 2.1. Visualizing the Confusion Matrix"
      ],
      "metadata": {
        "id": "5x6aRwzmnVIZ"
      }
    },
    {
      "cell_type": "code",
      "source": [
        "import matplotlib.pyplot as plt\n",
        "from sklearn.metrics import ConfusionMatrixDisplay\n",
        "\n",
        "# Visualize the Confusion Matrix\n",
        "ConfusionMatrixDisplay.from_estimator(mlp_model, X_test_pca, y_test, display_labels=[\"Normal\", \"Anomaly\"], cmap=plt.cm.Blues)\n",
        "plt.title('Confusion Matrix - Multi-Layer Perceptron')\n",
        "plt.show()"
      ],
      "metadata": {
        "colab": {
          "base_uri": "https://localhost:8080/",
          "height": 472
        },
        "id": "wq8RRT9BnSq3",
        "outputId": "9c04b759-80ba-4757-a4d1-53ae92d6c74d"
      },
      "execution_count": 29,
      "outputs": [
        {
          "output_type": "display_data",
          "data": {
            "text/plain": [
              "<Figure size 640x480 with 2 Axes>"
            ],
            "image/png": "[encoded data removed]"
          },
          "metadata": {}
        }
      ]
    },
    {
      "cell_type": "markdown",
      "source": [
        "## Model Comparison"
      ],
      "metadata": {
        "id": "f53gxcOJoALf"
      }
    },
    {
      "cell_type": "markdown",
      "source": [
        "#### 1. Compare Performance"
      ],
      "metadata": {
        "id": "Pub1XRbaoEmC"
      }
    },
    {
      "cell_type": "code",
      "source": [
        "from sklearn.metrics import accuracy_score, precision_score, recall_score, f1_score\n",
        "\n",
        "# Logistic Regression Performance\n",
        "print(\"=== Logistic Regression ===\")\n",
        "print(f\"Accuracy: {accuracy_score(y_test, y_pred):.2f}\")\n",
        "print(f\"Precision: {precision_score(y_test, y_pred):.2f}\")\n",
        "print(f\"Recall: {recall_score(y_test, y_pred):.2f}\")\n",
        "print(f\"F1-Score: {f1_score(y_test, y_pred):.2f}\")\n",
        "\n",
        "# K-Nearest Neighbors (KNN) Performance\n",
        "print(\"\\n=== K-Nearest Neighbors (KNN) ===\")\n",
        "print(f\"Accuracy: {accuracy_score(y_test, y_pred_knn):.2f}\")\n",
        "print(f\"Precision: {precision_score(y_test, y_pred_knn):.2f}\")\n",
        "print(f\"Recall: {recall_score(y_test, y_pred_knn):.2f}\")\n",
        "print(f\"F1-Score: {f1_score(y_test, y_pred_knn):.2f}\")\n",
        "\n",
        "# Multi-Layer Perceptron (MLP) Performance\n",
        "print(\"\\n=== Multi-Layer Perceptron (MLP) ===\")\n",
        "print(f\"Accuracy: {accuracy_score(y_test, y_pred_mlp):.2f}\")\n",
        "print(f\"Precision: {precision_score(y_test, y_pred_mlp):.2f}\")\n",
        "print(f\"Recall: {recall_score(y_test, y_pred_mlp):.2f}\")\n",
        "print(f\"F1-Score: {f1_score(y_test, y_pred_mlp):.2f}\")"
      ],
      "metadata": {
        "colab": {
          "base_uri": "https://localhost:8080/"
        },
        "id": "qlERvaLxnZGc",
        "outputId": "1016aaad-cf2b-4d96-ca0e-1e9069fddc1e"
      },
      "execution_count": 31,
      "outputs": [
        {
          "output_type": "stream",
          "name": "stdout",
          "text": [
            "=== Logistic Regression ===\n",
            "Accuracy: 0.85\n",
            "Precision: 0.93\n",
            "Recall: 0.79\n",
            "F1-Score: 0.85\n",
            "\n",
            "=== K-Nearest Neighbors (KNN) ===\n",
            "Accuracy: 0.81\n",
            "Precision: 0.96\n",
            "Recall: 0.69\n",
            "F1-Score: 0.80\n",
            "\n",
            "=== Multi-Layer Perceptron (MLP) ===\n",
            "Accuracy: 0.85\n",
            "Precision: 0.93\n",
            "Recall: 0.79\n",
            "F1-Score: 0.86\n"
          ]
        }
      ]
    },
    {
      "cell_type": "markdown",
      "source": [
        "#### 2. Confusion Matrix Comparison"
      ],
      "metadata": {
        "id": "9p5tDPx2pD_K"
      }
    },
    {
      "cell_type": "code",
      "source": [
        "from sklearn.metrics import ConfusionMatrixDisplay\n",
        "\n",
        "# Logistic Regression Confusion Matrix\n",
        "print(\"\\n=== Logistic Regression Confusion Matrix ===\")\n",
        "ConfusionMatrixDisplay.from_predictions(y_test, y_pred, display_labels=[\"Normal\", \"Anomaly\"], cmap=plt.cm.Blues)\n",
        "plt.title('Logistic Regression - Confusion Matrix')\n",
        "plt.show()\n",
        "\n",
        "# KNN Confusion Matrix\n",
        "print(\"\\n=== KNN Confusion Matrix ===\")\n",
        "ConfusionMatrixDisplay.from_predictions(y_test, y_pred_knn, display_labels=[\"Normal\", \"Anomaly\"], cmap=plt.cm.Blues)\n",
        "plt.title('K-Nearest Neighbors - Confusion Matrix')\n",
        "plt.show()\n",
        "\n",
        "# MLP Confusion Matrix\n",
        "print(\"\\n=== MLP Confusion Matrix ===\")\n",
        "ConfusionMatrixDisplay.from_predictions(y_test, y_pred_mlp, display_labels=[\"Normal\", \"Anomaly\"], cmap=plt.cm.Blues)\n",
        "plt.title('Multi-Layer Perceptron - Confusion Matrix')\n",
        "plt.show()"
      ],
      "metadata": {
        "colab": {
          "base_uri": "https://localhost:8080/",
          "height": 1000
        },
        "id": "MsG0RNs_oMuL",
        "outputId": "135c6e2d-8486-4ea6-980e-93e354dc1b00"
      },
      "execution_count": 32,
      "outputs": [
        {
          "output_type": "stream",
          "name": "stdout",
          "text": [
            "\n",
            "=== Logistic Regression Confusion Matrix ===\n"
          ]
        },
        {
          "output_type": "display_data",
          "data": {
            "text/plain": [
              "<Figure size 640x480 with 2 Axes>"
            ],
            "image/png": "[encoded data removed]"
          },
          "metadata": {}
        },
        {
          "output_type": "stream",
          "name": "stdout",
          "text": [
            "\n",
            "=== KNN Confusion Matrix ===\n"
          ]
        },
        {
          "output_type": "display_data",
          "data": {
            "text/plain": [
              "<Figure size 640x480 with 2 Axes>"
            ],
            "image/png": "[encoded data removed]"
          },
          "metadata": {}
        },
        {
          "output_type": "stream",
          "name": "stdout",
          "text": [
            "\n",
            "=== MLP Confusion Matrix ===\n"
          ]
        },
        {
          "output_type": "display_data",
          "data": {
            "text/plain": [
              "<Figure size 640x480 with 2 Axes>"
            ],
            "image/png": "[encoded data removed]"
          },
          "metadata": {}
        }
      ]
    },
    {
      "cell_type": "code",
      "source": [],
      "metadata": {
        "id": "IH35nTwMpKXT"
      },
      "execution_count": null,
      "outputs": []
    }
  ]
}